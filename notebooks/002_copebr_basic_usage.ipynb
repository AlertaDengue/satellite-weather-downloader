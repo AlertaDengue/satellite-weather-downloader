{
 "cells": [
  {
   "cell_type": "code",
   "execution_count": 1,
   "id": "1bd988db-97a6-4521-8076-4406c712d94a",
   "metadata": {
    "tags": []
   },
   "outputs": [],
   "source": [
    "import warnings\n",
    "warnings.filterwarnings('ignore')"
   ]
  },
  {
   "cell_type": "code",
   "execution_count": 2,
   "id": "9b5d5e8f-3ae8-4477-9d3d-4c0966fd2c1f",
   "metadata": {
    "tags": []
   },
   "outputs": [
    {
     "data": {
      "text/plain": [
       "True"
      ]
     },
     "execution_count": 2,
     "metadata": {},
     "output_type": "execute_result"
    }
   ],
   "source": [
    "import dotenv\n",
    "dotenv.load_dotenv()"
   ]
  },
  {
   "cell_type": "code",
   "execution_count": 3,
   "id": "84e4f655-9a77-4e22-8273-1502dbd41fa8",
   "metadata": {
    "tags": []
   },
   "outputs": [
    {
     "name": "stderr",
     "output_type": "stream",
     "text": [
      "Warning: Input is not a terminal (fd=0).\n"
     ]
    }
   ],
   "source": [
    "from satellite.downloader import download_br_netcdf\n",
    "from satellite.weather import load_dataset"
   ]
  },
  {
   "cell_type": "markdown",
   "id": "ac072d41-b652-407e-8ba5-eb2271610a59",
   "metadata": {},
   "source": [
    "---\n",
    "\n",
    "## `copebr` extension basic usage"
   ]
  },
  {
   "cell_type": "code",
   "execution_count": 4,
   "id": "560027fd-758c-4853-88ad-3ba99498e453",
   "metadata": {
    "tags": []
   },
   "outputs": [
    {
     "name": "stderr",
     "output_type": "stream",
     "text": [
      "2023-08-23 15:14:06,754 WARNING No date provided, downloading last available date: 2023-08-15\n",
      "2023-08-23 15:14:07,752 INFO Welcome to the CDS\n",
      "2023-08-23 15:14:07,753 INFO Sending request to https://cds.climate.copernicus.eu/api/v2/resources/reanalysis-era5-single-levels\n",
      "2023-08-23 15:14:08,030 INFO Request is queued\n",
      "2023-08-23 15:14:09,280 INFO Request is running\n",
      "2023-08-23 15:14:11,029 INFO Request is completed\n",
      "2023-08-23 15:14:11,030 INFO Downloading https://download-0008-clone.copernicus-climate.eu/cache-compute-0008/cache/data4/adaptor.mars.internal-1692814449.6167243-31762-12-022f5d53-5311-4626-80d4-05acbd59032b.nc to /home/bida/copernicus_data/BR_20230815.nc (1.6M)\n",
      "2023-08-23 15:14:14,263 INFO Download rate 514.3K/s                                                            \n"
     ]
    }
   ],
   "source": [
    "# Downloads the last update date from Copernicus\n",
    "br_last_update = download_br_netcdf()"
   ]
  },
  {
   "cell_type": "code",
   "execution_count": 5,
   "id": "c5d6a8d0-60fb-4c1d-8162-51c8faab0aa1",
   "metadata": {
    "tags": []
   },
   "outputs": [],
   "source": [
    "# Loads the dataset into memory\n",
    "ds = load_dataset(br_last_update)"
   ]
  },
  {
   "cell_type": "code",
   "execution_count": 6,
   "id": "dbd4dc12-b4b4-400a-a927-f99c5b3e12f8",
   "metadata": {
    "tags": []
   },
   "outputs": [
    {
     "data": {
      "text/html": [
       "<div>\n",
       "<style scoped>\n",
       "    .dataframe tbody tr th:only-of-type {\n",
       "        vertical-align: middle;\n",
       "    }\n",
       "\n",
       "    .dataframe tbody tr th {\n",
       "        vertical-align: top;\n",
       "    }\n",
       "\n",
       "    .dataframe thead th {\n",
       "        text-align: right;\n",
       "    }\n",
       "</style>\n",
       "<table border=\"1\" class=\"dataframe\">\n",
       "  <thead>\n",
       "    <tr style=\"text-align: right;\">\n",
       "      <th></th>\n",
       "      <th>date</th>\n",
       "      <th>temp_max</th>\n",
       "      <th>precip_max</th>\n",
       "      <th>umid_max</th>\n",
       "      <th>pressao_max</th>\n",
       "      <th>temp_med</th>\n",
       "      <th>precip_med</th>\n",
       "      <th>umid_med</th>\n",
       "      <th>pressao_med</th>\n",
       "      <th>temp_min</th>\n",
       "      <th>precip_min</th>\n",
       "      <th>umid_min</th>\n",
       "      <th>pressao_min</th>\n",
       "      <th>precip_tot</th>\n",
       "      <th>geocodigo</th>\n",
       "    </tr>\n",
       "  </thead>\n",
       "  <tbody>\n",
       "    <tr>\n",
       "      <th>0</th>\n",
       "      <td>2023-08-15</td>\n",
       "      <td>23.958038</td>\n",
       "      <td>0.09101</td>\n",
       "      <td>90.754807</td>\n",
       "      <td>1.009775</td>\n",
       "      <td>21.502148</td>\n",
       "      <td>0.028034</td>\n",
       "      <td>85.658394</td>\n",
       "      <td>1.008340</td>\n",
       "      <td>20.063751</td>\n",
       "      <td>0.00120</td>\n",
       "      <td>76.061295</td>\n",
       "      <td>1.006483</td>\n",
       "      <td>0.22427</td>\n",
       "      <td>3304557</td>\n",
       "    </tr>\n",
       "    <tr>\n",
       "      <th>1</th>\n",
       "      <td>2023-08-15</td>\n",
       "      <td>22.898865</td>\n",
       "      <td>0.06386</td>\n",
       "      <td>94.971375</td>\n",
       "      <td>1.010225</td>\n",
       "      <td>17.993004</td>\n",
       "      <td>0.012465</td>\n",
       "      <td>87.883133</td>\n",
       "      <td>1.008326</td>\n",
       "      <td>15.649170</td>\n",
       "      <td>0.00021</td>\n",
       "      <td>69.860809</td>\n",
       "      <td>1.005738</td>\n",
       "      <td>0.09972</td>\n",
       "      <td>3550308</td>\n",
       "    </tr>\n",
       "  </tbody>\n",
       "</table>\n",
       "</div>"
      ],
      "text/plain": [
       "        date   temp_max  precip_max   umid_max  pressao_max   temp_med  \\\n",
       "0 2023-08-15  23.958038     0.09101  90.754807     1.009775  21.502148   \n",
       "1 2023-08-15  22.898865     0.06386  94.971375     1.010225  17.993004   \n",
       "\n",
       "   precip_med   umid_med  pressao_med   temp_min  precip_min   umid_min  \\\n",
       "0    0.028034  85.658394     1.008340  20.063751     0.00120  76.061295   \n",
       "1    0.012465  87.883133     1.008326  15.649170     0.00021  69.860809   \n",
       "\n",
       "   pressao_min  precip_tot  geocodigo  \n",
       "0     1.006483     0.22427    3304557  \n",
       "1     1.005738     0.09972    3550308  "
      ]
     },
     "execution_count": 6,
     "metadata": {},
     "output_type": "execute_result"
    }
   ],
   "source": [
    "# Extracts information of Rio de Janeiro & São Paulo\n",
    "ds.copebr.to_dataframe([3304557, 3550308])"
   ]
  },
  {
   "cell_type": "markdown",
   "id": "70163258-683c-4c96-b582-3cf5b2970a25",
   "metadata": {
    "tags": []
   },
   "source": [
    "---\n",
    "\n",
    "## Date ranges"
   ]
  },
  {
   "cell_type": "code",
   "execution_count": 7,
   "id": "1d509461-bf0a-4ab8-b7bb-51aa487ea313",
   "metadata": {
    "tags": []
   },
   "outputs": [
    {
     "name": "stderr",
     "output_type": "stream",
     "text": [
      "2023-08-23 15:14:14,918 INFO Welcome to the CDS\n",
      "2023-08-23 15:14:14,920 INFO Sending request to https://cds.climate.copernicus.eu/api/v2/resources/reanalysis-era5-single-levels\n",
      "2023-08-23 15:14:15,206 INFO Request is queued\n",
      "2023-08-23 15:14:16,453 INFO Request is running\n",
      "2023-08-23 15:16:11,009 INFO Request is completed\n",
      "2023-08-23 15:16:11,012 INFO Downloading https://download-0019.copernicus-climate.eu/cache-compute-0019/cache/data2/adaptor.mars.internal-1692814528.8969703-8285-5-ece3add4-0b70-46de-987d-56b1a90cc594.nc to /home/bida/copernicus_data/BR_20230101_20230201.nc (95.6M)\n",
      "2023-08-23 15:16:29,571 INFO Download rate 5.2M/s                                                              \n"
     ]
    }
   ],
   "source": [
    "# Downloads BR dataset between dates 2023/jan/01 & 2023/feb/01\n",
    "br_between = download_br_netcdf(\"2023-01-01\", \"2023-02-01\")"
   ]
  },
  {
   "cell_type": "code",
   "execution_count": 8,
   "id": "f412e4ba-b0e5-45f0-a022-5c762d07a11f",
   "metadata": {
    "tags": []
   },
   "outputs": [
    {
     "data": {
      "text/html": [
       "<div>\n",
       "<style scoped>\n",
       "    .dataframe tbody tr th:only-of-type {\n",
       "        vertical-align: middle;\n",
       "    }\n",
       "\n",
       "    .dataframe tbody tr th {\n",
       "        vertical-align: top;\n",
       "    }\n",
       "\n",
       "    .dataframe thead th {\n",
       "        text-align: right;\n",
       "    }\n",
       "</style>\n",
       "<table border=\"1\" class=\"dataframe\">\n",
       "  <thead>\n",
       "    <tr style=\"text-align: right;\">\n",
       "      <th></th>\n",
       "      <th>date</th>\n",
       "      <th>temp_max</th>\n",
       "      <th>precip_max</th>\n",
       "      <th>umid_max</th>\n",
       "      <th>pressao_max</th>\n",
       "      <th>temp_med</th>\n",
       "      <th>precip_med</th>\n",
       "      <th>umid_med</th>\n",
       "      <th>pressao_med</th>\n",
       "      <th>temp_min</th>\n",
       "      <th>precip_min</th>\n",
       "      <th>umid_min</th>\n",
       "      <th>pressao_min</th>\n",
       "      <th>precip_tot</th>\n",
       "      <th>geocodigo</th>\n",
       "    </tr>\n",
       "  </thead>\n",
       "  <tbody>\n",
       "    <tr>\n",
       "      <th>0</th>\n",
       "      <td>2023-01-01</td>\n",
       "      <td>28.611298</td>\n",
       "      <td>3.12800</td>\n",
       "      <td>92.637657</td>\n",
       "      <td>1.003064</td>\n",
       "      <td>25.204868</td>\n",
       "      <td>0.469126</td>\n",
       "      <td>82.269981</td>\n",
       "      <td>1.001414</td>\n",
       "      <td>22.447174</td>\n",
       "      <td>0.00000</td>\n",
       "      <td>69.146835</td>\n",
       "      <td>0.999961</td>\n",
       "      <td>3.75301</td>\n",
       "      <td>3304557</td>\n",
       "    </tr>\n",
       "    <tr>\n",
       "      <th>1</th>\n",
       "      <td>2023-01-02</td>\n",
       "      <td>29.972565</td>\n",
       "      <td>1.57566</td>\n",
       "      <td>93.351074</td>\n",
       "      <td>1.001920</td>\n",
       "      <td>25.821037</td>\n",
       "      <td>0.246625</td>\n",
       "      <td>77.906898</td>\n",
       "      <td>0.999366</td>\n",
       "      <td>22.230316</td>\n",
       "      <td>0.00000</td>\n",
       "      <td>59.107758</td>\n",
       "      <td>0.995433</td>\n",
       "      <td>1.97300</td>\n",
       "      <td>3304557</td>\n",
       "    </tr>\n",
       "    <tr>\n",
       "      <th>2</th>\n",
       "      <td>2023-01-03</td>\n",
       "      <td>32.171112</td>\n",
       "      <td>0.01402</td>\n",
       "      <td>86.056244</td>\n",
       "      <td>0.997397</td>\n",
       "      <td>27.237656</td>\n",
       "      <td>0.002541</td>\n",
       "      <td>71.091240</td>\n",
       "      <td>0.995910</td>\n",
       "      <td>23.381561</td>\n",
       "      <td>0.00000</td>\n",
       "      <td>52.390064</td>\n",
       "      <td>0.994020</td>\n",
       "      <td>0.02033</td>\n",
       "      <td>3304557</td>\n",
       "    </tr>\n",
       "    <tr>\n",
       "      <th>3</th>\n",
       "      <td>2023-01-04</td>\n",
       "      <td>31.644012</td>\n",
       "      <td>1.24125</td>\n",
       "      <td>84.621117</td>\n",
       "      <td>0.995893</td>\n",
       "      <td>27.618412</td>\n",
       "      <td>0.230718</td>\n",
       "      <td>74.430405</td>\n",
       "      <td>0.994690</td>\n",
       "      <td>25.641022</td>\n",
       "      <td>0.00000</td>\n",
       "      <td>56.445282</td>\n",
       "      <td>0.993015</td>\n",
       "      <td>1.84574</td>\n",
       "      <td>3304557</td>\n",
       "    </tr>\n",
       "    <tr>\n",
       "      <th>4</th>\n",
       "      <td>2023-01-05</td>\n",
       "      <td>24.221985</td>\n",
       "      <td>1.04915</td>\n",
       "      <td>93.496033</td>\n",
       "      <td>0.998718</td>\n",
       "      <td>23.498684</td>\n",
       "      <td>0.480956</td>\n",
       "      <td>90.630959</td>\n",
       "      <td>0.997706</td>\n",
       "      <td>22.909393</td>\n",
       "      <td>0.20296</td>\n",
       "      <td>86.908440</td>\n",
       "      <td>0.995900</td>\n",
       "      <td>3.84765</td>\n",
       "      <td>3304557</td>\n",
       "    </tr>\n",
       "    <tr>\n",
       "      <th>...</th>\n",
       "      <td>...</td>\n",
       "      <td>...</td>\n",
       "      <td>...</td>\n",
       "      <td>...</td>\n",
       "      <td>...</td>\n",
       "      <td>...</td>\n",
       "      <td>...</td>\n",
       "      <td>...</td>\n",
       "      <td>...</td>\n",
       "      <td>...</td>\n",
       "      <td>...</td>\n",
       "      <td>...</td>\n",
       "      <td>...</td>\n",
       "      <td>...</td>\n",
       "      <td>...</td>\n",
       "    </tr>\n",
       "    <tr>\n",
       "      <th>113</th>\n",
       "      <td>2023-02-24</td>\n",
       "      <td>27.790466</td>\n",
       "      <td>2.58905</td>\n",
       "      <td>96.370659</td>\n",
       "      <td>1.004442</td>\n",
       "      <td>22.983707</td>\n",
       "      <td>0.353426</td>\n",
       "      <td>83.028641</td>\n",
       "      <td>1.002013</td>\n",
       "      <td>19.579987</td>\n",
       "      <td>0.00000</td>\n",
       "      <td>63.509815</td>\n",
       "      <td>0.998373</td>\n",
       "      <td>2.82741</td>\n",
       "      <td>3550308</td>\n",
       "    </tr>\n",
       "    <tr>\n",
       "      <th>114</th>\n",
       "      <td>2023-02-25</td>\n",
       "      <td>29.078644</td>\n",
       "      <td>0.08904</td>\n",
       "      <td>90.016891</td>\n",
       "      <td>1.000679</td>\n",
       "      <td>24.465527</td>\n",
       "      <td>0.015863</td>\n",
       "      <td>75.821976</td>\n",
       "      <td>0.999668</td>\n",
       "      <td>20.954620</td>\n",
       "      <td>0.00000</td>\n",
       "      <td>54.282536</td>\n",
       "      <td>0.998526</td>\n",
       "      <td>0.12690</td>\n",
       "      <td>3550308</td>\n",
       "    </tr>\n",
       "    <tr>\n",
       "      <th>115</th>\n",
       "      <td>2023-02-26</td>\n",
       "      <td>29.522125</td>\n",
       "      <td>0.17141</td>\n",
       "      <td>94.143776</td>\n",
       "      <td>1.002934</td>\n",
       "      <td>24.306385</td>\n",
       "      <td>0.026421</td>\n",
       "      <td>78.235962</td>\n",
       "      <td>1.001974</td>\n",
       "      <td>20.295319</td>\n",
       "      <td>0.00000</td>\n",
       "      <td>57.990234</td>\n",
       "      <td>1.000577</td>\n",
       "      <td>0.21137</td>\n",
       "      <td>3550308</td>\n",
       "    </tr>\n",
       "    <tr>\n",
       "      <th>116</th>\n",
       "      <td>2023-02-27</td>\n",
       "      <td>26.982086</td>\n",
       "      <td>1.32204</td>\n",
       "      <td>96.778206</td>\n",
       "      <td>1.006740</td>\n",
       "      <td>23.178593</td>\n",
       "      <td>0.210739</td>\n",
       "      <td>85.762985</td>\n",
       "      <td>1.005356</td>\n",
       "      <td>20.917511</td>\n",
       "      <td>0.00000</td>\n",
       "      <td>72.130119</td>\n",
       "      <td>1.003563</td>\n",
       "      <td>1.68591</td>\n",
       "      <td>3550308</td>\n",
       "    </tr>\n",
       "    <tr>\n",
       "      <th>117</th>\n",
       "      <td>2023-02-28</td>\n",
       "      <td>25.129486</td>\n",
       "      <td>2.49371</td>\n",
       "      <td>94.829453</td>\n",
       "      <td>1.008107</td>\n",
       "      <td>21.530560</td>\n",
       "      <td>0.445487</td>\n",
       "      <td>89.396790</td>\n",
       "      <td>1.007063</td>\n",
       "      <td>19.525330</td>\n",
       "      <td>0.04960</td>\n",
       "      <td>76.432892</td>\n",
       "      <td>1.005563</td>\n",
       "      <td>3.56390</td>\n",
       "      <td>3550308</td>\n",
       "    </tr>\n",
       "  </tbody>\n",
       "</table>\n",
       "<p>118 rows × 15 columns</p>\n",
       "</div>"
      ],
      "text/plain": [
       "          date   temp_max  precip_max   umid_max  pressao_max   temp_med  \\\n",
       "0   2023-01-01  28.611298     3.12800  92.637657     1.003064  25.204868   \n",
       "1   2023-01-02  29.972565     1.57566  93.351074     1.001920  25.821037   \n",
       "2   2023-01-03  32.171112     0.01402  86.056244     0.997397  27.237656   \n",
       "3   2023-01-04  31.644012     1.24125  84.621117     0.995893  27.618412   \n",
       "4   2023-01-05  24.221985     1.04915  93.496033     0.998718  23.498684   \n",
       "..         ...        ...         ...        ...          ...        ...   \n",
       "113 2023-02-24  27.790466     2.58905  96.370659     1.004442  22.983707   \n",
       "114 2023-02-25  29.078644     0.08904  90.016891     1.000679  24.465527   \n",
       "115 2023-02-26  29.522125     0.17141  94.143776     1.002934  24.306385   \n",
       "116 2023-02-27  26.982086     1.32204  96.778206     1.006740  23.178593   \n",
       "117 2023-02-28  25.129486     2.49371  94.829453     1.008107  21.530560   \n",
       "\n",
       "     precip_med   umid_med  pressao_med   temp_min  precip_min   umid_min  \\\n",
       "0      0.469126  82.269981     1.001414  22.447174     0.00000  69.146835   \n",
       "1      0.246625  77.906898     0.999366  22.230316     0.00000  59.107758   \n",
       "2      0.002541  71.091240     0.995910  23.381561     0.00000  52.390064   \n",
       "3      0.230718  74.430405     0.994690  25.641022     0.00000  56.445282   \n",
       "4      0.480956  90.630959     0.997706  22.909393     0.20296  86.908440   \n",
       "..          ...        ...          ...        ...         ...        ...   \n",
       "113    0.353426  83.028641     1.002013  19.579987     0.00000  63.509815   \n",
       "114    0.015863  75.821976     0.999668  20.954620     0.00000  54.282536   \n",
       "115    0.026421  78.235962     1.001974  20.295319     0.00000  57.990234   \n",
       "116    0.210739  85.762985     1.005356  20.917511     0.00000  72.130119   \n",
       "117    0.445487  89.396790     1.007063  19.525330     0.04960  76.432892   \n",
       "\n",
       "     pressao_min  precip_tot  geocodigo  \n",
       "0       0.999961     3.75301    3304557  \n",
       "1       0.995433     1.97300    3304557  \n",
       "2       0.994020     0.02033    3304557  \n",
       "3       0.993015     1.84574    3304557  \n",
       "4       0.995900     3.84765    3304557  \n",
       "..           ...         ...        ...  \n",
       "113     0.998373     2.82741    3550308  \n",
       "114     0.998526     0.12690    3550308  \n",
       "115     1.000577     0.21137    3550308  \n",
       "116     1.003563     1.68591    3550308  \n",
       "117     1.005563     3.56390    3550308  \n",
       "\n",
       "[118 rows x 15 columns]"
      ]
     },
     "execution_count": 8,
     "metadata": {},
     "output_type": "execute_result"
    }
   ],
   "source": [
    "ds = load_dataset(br_between)\n",
    "ds.copebr.to_dataframe([3304557, 3550308])"
   ]
  }
 ],
 "metadata": {
  "kernelspec": {
   "display_name": "Python 3 (ipykernel)",
   "language": "python",
   "name": "python3"
  },
  "language_info": {
   "codemirror_mode": {
    "name": "ipython",
    "version": 3
   },
   "file_extension": ".py",
   "mimetype": "text/x-python",
   "name": "python",
   "nbconvert_exporter": "python",
   "pygments_lexer": "ipython3",
   "version": "3.11.4"
  }
 },
 "nbformat": 4,
 "nbformat_minor": 5
}
