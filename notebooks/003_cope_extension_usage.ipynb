{
 "cells": [
  {
   "cell_type": "code",
   "execution_count": 1,
   "id": "9b5d5e8f-3ae8-4477-9d3d-4c0966fd2c1f",
   "metadata": {
    "tags": []
   },
   "outputs": [
    {
     "data": {
      "text/plain": [
       "True"
      ]
     },
     "execution_count": 1,
     "metadata": {},
     "output_type": "execute_result"
    }
   ],
   "source": [
    "import dotenv\n",
    "dotenv.load_dotenv()"
   ]
  },
  {
   "cell_type": "code",
   "execution_count": 2,
   "id": "84e4f655-9a77-4e22-8273-1502dbd41fa8",
   "metadata": {
    "tags": []
   },
   "outputs": [],
   "source": [
    "from satellite import request, ADM2"
   ]
  },
  {
   "cell_type": "code",
   "execution_count": null,
   "id": "1ae22908-83d4-4e63-8ac6-296bae2712d9",
   "metadata": {
    "tags": []
   },
   "outputs": [
    {
     "name": "stderr",
     "output_type": "stream",
     "text": [
      "2024-11-01 15:24:51,049 INFO [2024-09-28T00:00:00] **Welcome to the New Climate Data Store (CDS)!** This new system is in its early days of full operations and still undergoing enhancements and fine tuning. Some disruptions are to be expected. Your \n",
      "[feedback](https://jira.ecmwf.int/plugins/servlet/desk/portal/1/create/202) is key to improve the user experience on the new CDS for the benefit of everyone. Thank you.\n",
      "2024-11-01 15:24:51,050 WARNING [2024-09-26T00:00:00] Should you have not yet migrated from the old CDS system to the new CDS, please check our [informative page](https://confluence.ecmwf.int/x/uINmFw) for guidance.\n",
      "2024-11-01 15:24:51,052 INFO [2024-09-26T00:00:00] Watch our [Forum](https://forum.ecmwf.int/) for Announcements, news and other discussed topics.\n",
      "2024-11-01 15:24:51,053 INFO [2024-09-16T00:00:00] Remember that you need to have an ECMWF account to use the new CDS. **Your old CDS credentials will not work in new CDS!**\n",
      "2024-11-01 15:24:51,055 WARNING [2024-06-16T00:00:00] CDS API syntax is changed and some keys or parameter names may have also changed. To avoid requests failing, please use the \"Show API request code\" tool on the dataset Download Form to check you are using the correct syntax for your API request.\n",
      "2024-11-01 15:24:51,590 INFO Request ID is c213ddde-0ff7-42e6-a7ff-9f6714b9531e\n",
      "2024-11-01 15:24:51,932 INFO status has been updated to accepted\n"
     ]
    }
   ],
   "source": [
    "with request.reanalysis_era5_land(output=\"example3\", locale=\"BRA\", date=\"2024-10-22\") as ds:\n",
    "    df = ds.cope.to_dataframe(ADM2.get(code=3304557, adm0=\"BRA\"))\n",
    "df"
   ]
  },
  {
   "cell_type": "code",
   "execution_count": null,
   "id": "a0a85b6f-4558-4723-811f-3d05d3f18c57",
   "metadata": {
    "tags": []
   },
   "outputs": [],
   "source": [
    "with request.reanalysis_era5_land(output=\"example3\", locale=\"BRA\", date=\"2024-10-22\") as ds:\n",
    "    df = ds.cope.to_dataframe(ADM2.filter(adm1=42, adm0=\"BRA\"))\n",
    "df"
   ]
  },
  {
   "cell_type": "code",
   "execution_count": null,
   "id": "74162d15-b808-455e-b4ca-c6dbf694a6d4",
   "metadata": {
    "tags": []
   },
   "outputs": [],
   "source": [
    "with request.reanalysis_era5_land(output=\"example4\", locale=\"ARG\", date=\"2024-10-19\") as ds:\n",
    "    df = ds.cope.to_dataframe(ADM2.filter(adm0=\"ARG\")) # WARNING: too many ADM2 may result in high CPU usage\n",
    "df "
   ]
  },
  {
   "cell_type": "code",
   "execution_count": null,
   "id": "63dd234b-530c-48e4-b4dd-d0a8f8f6230f",
   "metadata": {
    "tags": []
   },
   "outputs": [],
   "source": [
    "ds = request.reanalysis_era5_land(\"example2\", variable=[\"2m_temperature\"], time=[\"00:00\"], locale=\"BRA\", date=\"2000-01-01/2000-01-15\")\n",
    "ds.cope.adm_ds(ADM2.get(code=3304557, adm0=\"BRA\")).temp_med.plot()"
   ]
  }
 ],
 "metadata": {
  "kernelspec": {
   "display_name": "Python 3 (ipykernel)",
   "language": "python",
   "name": "python3"
  },
  "language_info": {
   "codemirror_mode": {
    "name": "ipython",
    "version": 3
   },
   "file_extension": ".py",
   "mimetype": "text/x-python",
   "name": "python",
   "nbconvert_exporter": "python",
   "pygments_lexer": "ipython3",
   "version": "3.11.10"
  }
 },
 "nbformat": 4,
 "nbformat_minor": 5
}
