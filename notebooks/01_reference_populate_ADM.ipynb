{
 "cells": [
  {
   "cell_type": "code",
   "execution_count": 1,
   "id": "e21f9411-57fd-4f9b-95e0-4092a274879b",
   "metadata": {
    "tags": []
   },
   "outputs": [],
   "source": [
    "# INFO: This notebook is for reference purposes only, it describes how ADM.duckdb was populated and may not work in the future (read only DB)\n",
    "\n",
    "import pandas as pd\n",
    "import geopandas as gpd\n",
    "\n",
    "from satellite.weather.orm.functional import session\n",
    "from satellite.weather.orm.models import ADM0, ADM1, ADM2"
   ]
  },
  {
   "cell_type": "markdown",
   "id": "98f3c2ec-04d9-4221-a9fb-58d8b3754d38",
   "metadata": {},
   "source": [
    "### ARG 🇦🇷"
   ]
  },
  {
   "cell_type": "markdown",
   "id": "421528fd-e128-4533-8e75-d68388b7ffc3",
   "metadata": {},
   "source": [
    "#### ADM1"
   ]
  },
  {
   "cell_type": "code",
   "execution_count": 2,
   "id": "849d8196-d101-4351-9b18-3b55393c3e86",
   "metadata": {
    "tags": []
   },
   "outputs": [
    {
     "data": {
      "text/html": [
       "<div>\n",
       "<style scoped>\n",
       "    .dataframe tbody tr th:only-of-type {\n",
       "        vertical-align: middle;\n",
       "    }\n",
       "\n",
       "    .dataframe tbody tr th {\n",
       "        vertical-align: top;\n",
       "    }\n",
       "\n",
       "    .dataframe thead th {\n",
       "        text-align: right;\n",
       "    }\n",
       "</style>\n",
       "<table border=\"1\" class=\"dataframe\">\n",
       "  <thead>\n",
       "    <tr style=\"text-align: right;\">\n",
       "      <th></th>\n",
       "      <th>adm1</th>\n",
       "      <th>name</th>\n",
       "      <th>adm0</th>\n",
       "    </tr>\n",
       "  </thead>\n",
       "  <tbody>\n",
       "    <tr>\n",
       "      <th>0</th>\n",
       "      <td>02</td>\n",
       "      <td>Ciudad Autónoma de Buenos Aires</td>\n",
       "      <td>ARG</td>\n",
       "    </tr>\n",
       "    <tr>\n",
       "      <th>1</th>\n",
       "      <td>10</td>\n",
       "      <td>Catamarca</td>\n",
       "      <td>ARG</td>\n",
       "    </tr>\n",
       "    <tr>\n",
       "      <th>2</th>\n",
       "      <td>14</td>\n",
       "      <td>Córdoba</td>\n",
       "      <td>ARG</td>\n",
       "    </tr>\n",
       "    <tr>\n",
       "      <th>3</th>\n",
       "      <td>18</td>\n",
       "      <td>Corrientes</td>\n",
       "      <td>ARG</td>\n",
       "    </tr>\n",
       "    <tr>\n",
       "      <th>4</th>\n",
       "      <td>22</td>\n",
       "      <td>Chaco</td>\n",
       "      <td>ARG</td>\n",
       "    </tr>\n",
       "  </tbody>\n",
       "</table>\n",
       "</div>"
      ],
      "text/plain": [
       "  adm1                             name adm0\n",
       "0   02  Ciudad Autónoma de Buenos Aires  ARG\n",
       "1   10                        Catamarca  ARG\n",
       "2   14                          Córdoba  ARG\n",
       "3   18                       Corrientes  ARG\n",
       "4   22                            Chaco  ARG"
      ]
     },
     "execution_count": 2,
     "metadata": {},
     "output_type": "execute_result"
    }
   ],
   "source": [
    "df_adm1 = gpd.read_file(\"/home/bida/Downloads/provincias.geojson\") # https://github.com/PoliticaArgentina/data_warehouse/blob/master/geoAr/data_raw/provincias.geojson\n",
    "df_adm1 = df_adm1[[\"codprov_censo\", \"provincia\"]]\n",
    "df_adm1 = df_adm1.rename(columns={\"codprov_censo\": \"adm1\", \"provincia\": \"name\"})\n",
    "df_adm1[\"adm0\"] = \"ARG\"\n",
    "df_adm1.head()"
   ]
  },
  {
   "cell_type": "code",
   "execution_count": 3,
   "id": "15c0df69-a211-493b-b80a-2ca26d62a61b",
   "metadata": {
    "tags": []
   },
   "outputs": [],
   "source": [
    "with session() as sess:\n",
    "    for adm in [ADM0, ADM1]:\n",
    "        adm.drop_table()\n",
    "        adm.create_table()\n",
    "        \n",
    "    sess.execute(\"INSERT INTO adm0 (code, name) VALUES ('ARG', 'Argentina')\")\n",
    "    sess.execute(\"INSERT INTO adm1 SELECT * FROM df_adm1\")\n",
    "    sess.commit()"
   ]
  },
  {
   "cell_type": "code",
   "execution_count": 4,
   "id": "26cd94e7-29d0-4045-847d-f113d39f552d",
   "metadata": {
    "tags": []
   },
   "outputs": [
    {
     "data": {
      "text/plain": [
       "Argentina"
      ]
     },
     "execution_count": 4,
     "metadata": {},
     "output_type": "execute_result"
    }
   ],
   "source": [
    "ADM0.get(code=\"ARG\")"
   ]
  },
  {
   "cell_type": "code",
   "execution_count": 5,
   "id": "26697af4-0954-4071-821f-a76a35c65ea1",
   "metadata": {
    "tags": []
   },
   "outputs": [
    {
     "data": {
      "text/plain": [
       "[Ciudad Autónoma de Buenos Aires, Catamarca, Córdoba, Corrientes, Chaco]"
      ]
     },
     "execution_count": 5,
     "metadata": {},
     "output_type": "execute_result"
    }
   ],
   "source": [
    "ADM1.filter()[:5]"
   ]
  },
  {
   "cell_type": "code",
   "execution_count": 6,
   "id": "d09f72cb-9dd5-4e1d-8399-cbda3d1e6926",
   "metadata": {
    "tags": []
   },
   "outputs": [
    {
     "data": {
      "text/plain": [
       "[Catamarca]"
      ]
     },
     "execution_count": 6,
     "metadata": {},
     "output_type": "execute_result"
    }
   ],
   "source": [
    "ADM1.filter(name=\"Catamarca\", adm0=\"ARG\")"
   ]
  },
  {
   "cell_type": "code",
   "execution_count": 7,
   "id": "10fa073c-452d-4d6f-9c20-e0c59c7042dc",
   "metadata": {
    "tags": []
   },
   "outputs": [
    {
     "data": {
      "text/plain": [
       "[Catamarca]"
      ]
     },
     "execution_count": 7,
     "metadata": {},
     "output_type": "execute_result"
    }
   ],
   "source": [
    "ADM1.filter(code=\"10\", adm0=\"ARG\")"
   ]
  },
  {
   "cell_type": "markdown",
   "id": "c7a24227-e674-44ce-bc14-b38a9b67559f",
   "metadata": {
    "tags": []
   },
   "source": [
    "#### ADM2"
   ]
  },
  {
   "cell_type": "code",
   "execution_count": 8,
   "id": "99fe9150-8d2c-4fd7-9f45-6f9a0a22686a",
   "metadata": {
    "tags": []
   },
   "outputs": [
    {
     "data": {
      "text/html": [
       "<div>\n",
       "<style scoped>\n",
       "    .dataframe tbody tr th:only-of-type {\n",
       "        vertical-align: middle;\n",
       "    }\n",
       "\n",
       "    .dataframe tbody tr th {\n",
       "        vertical-align: top;\n",
       "    }\n",
       "\n",
       "    .dataframe thead th {\n",
       "        text-align: right;\n",
       "    }\n",
       "</style>\n",
       "<table border=\"1\" class=\"dataframe\">\n",
       "  <thead>\n",
       "    <tr style=\"text-align: right;\">\n",
       "      <th></th>\n",
       "      <th>adm1</th>\n",
       "      <th>adm2</th>\n",
       "      <th>name</th>\n",
       "      <th>geometry</th>\n",
       "    </tr>\n",
       "  </thead>\n",
       "  <tbody>\n",
       "    <tr>\n",
       "      <th>0</th>\n",
       "      <td>02</td>\n",
       "      <td>02001</td>\n",
       "      <td>Comuna 01</td>\n",
       "      <td>POLYGON ((-58.36801 -34.57821, -58.36798 -34.5...</td>\n",
       "    </tr>\n",
       "    <tr>\n",
       "      <th>1</th>\n",
       "      <td>02</td>\n",
       "      <td>02002</td>\n",
       "      <td>Comuna 02</td>\n",
       "      <td>POLYGON ((-58.3944 -34.59968, -58.39471 -34.59...</td>\n",
       "    </tr>\n",
       "    <tr>\n",
       "      <th>2</th>\n",
       "      <td>02</td>\n",
       "      <td>02003</td>\n",
       "      <td>Comuna 03</td>\n",
       "      <td>POLYGON ((-58.4103 -34.59809, -58.40943 -34.59...</td>\n",
       "    </tr>\n",
       "    <tr>\n",
       "      <th>3</th>\n",
       "      <td>02</td>\n",
       "      <td>02004</td>\n",
       "      <td>Comuna 04</td>\n",
       "      <td>MULTIPOLYGON (((-58.35987 -34.62558, -58.35978...</td>\n",
       "    </tr>\n",
       "    <tr>\n",
       "      <th>4</th>\n",
       "      <td>02</td>\n",
       "      <td>02005</td>\n",
       "      <td>Comuna 05</td>\n",
       "      <td>POLYGON ((-58.41566 -34.59786, -58.41463 -34.5...</td>\n",
       "    </tr>\n",
       "  </tbody>\n",
       "</table>\n",
       "</div>"
      ],
      "text/plain": [
       "  adm1   adm2       name                                           geometry\n",
       "0   02  02001  Comuna 01  POLYGON ((-58.36801 -34.57821, -58.36798 -34.5...\n",
       "1   02  02002  Comuna 02  POLYGON ((-58.3944 -34.59968, -58.39471 -34.59...\n",
       "2   02  02003  Comuna 03  POLYGON ((-58.4103 -34.59809, -58.40943 -34.59...\n",
       "3   02  02004  Comuna 04  MULTIPOLYGON (((-58.35987 -34.62558, -58.35978...\n",
       "4   02  02005  Comuna 05  POLYGON ((-58.41566 -34.59786, -58.41463 -34.5..."
      ]
     },
     "execution_count": 8,
     "metadata": {},
     "output_type": "execute_result"
    }
   ],
   "source": [
    "df_adm2 = gpd.read_file(\"/home/bida/Downloads/censo_2010.geojson\") # https://github.com/PoliticaArgentina/data_warehouse/blob/master/geoAr/data_raw/censos/censo_2010.geojson\n",
    "df_adm2 = df_adm2[[\"prov_cod\", \"link\", \"depto\", \"geometry\"]]\n",
    "df_adm2 = df_adm2.rename(columns={\"prov_cod\": \"adm1\", \"link\": \"adm2\", \"depto\": \"name\"})\n",
    "\"\"\"\n",
    "df_gpkg = df_adm2[[\"adm1\", \"adm2\", \"geometry\"]]\n",
    "df_gpkg.to_file(\"ARG.gpkg\", driver=\"GPKG\")\n",
    "\"\"\"\n",
    "df_adm2.head()"
   ]
  },
  {
   "cell_type": "code",
   "execution_count": 9,
   "id": "fd1c21d8-b72a-4f2c-8454-6ac586b62c14",
   "metadata": {
    "tags": []
   },
   "outputs": [
    {
     "data": {
      "text/html": [
       "<div>\n",
       "<style scoped>\n",
       "    .dataframe tbody tr th:only-of-type {\n",
       "        vertical-align: middle;\n",
       "    }\n",
       "\n",
       "    .dataframe tbody tr th {\n",
       "        vertical-align: top;\n",
       "    }\n",
       "\n",
       "    .dataframe thead th {\n",
       "        text-align: right;\n",
       "    }\n",
       "</style>\n",
       "<table border=\"1\" class=\"dataframe\">\n",
       "  <thead>\n",
       "    <tr style=\"text-align: right;\">\n",
       "      <th></th>\n",
       "      <th>adm2</th>\n",
       "      <th>name</th>\n",
       "      <th>adm0</th>\n",
       "      <th>adm1</th>\n",
       "    </tr>\n",
       "  </thead>\n",
       "  <tbody>\n",
       "    <tr>\n",
       "      <th>0</th>\n",
       "      <td>02001</td>\n",
       "      <td>Comuna 01</td>\n",
       "      <td>ARG</td>\n",
       "      <td>02</td>\n",
       "    </tr>\n",
       "    <tr>\n",
       "      <th>1</th>\n",
       "      <td>02002</td>\n",
       "      <td>Comuna 02</td>\n",
       "      <td>ARG</td>\n",
       "      <td>02</td>\n",
       "    </tr>\n",
       "    <tr>\n",
       "      <th>2</th>\n",
       "      <td>02003</td>\n",
       "      <td>Comuna 03</td>\n",
       "      <td>ARG</td>\n",
       "      <td>02</td>\n",
       "    </tr>\n",
       "    <tr>\n",
       "      <th>3</th>\n",
       "      <td>02004</td>\n",
       "      <td>Comuna 04</td>\n",
       "      <td>ARG</td>\n",
       "      <td>02</td>\n",
       "    </tr>\n",
       "    <tr>\n",
       "      <th>4</th>\n",
       "      <td>02005</td>\n",
       "      <td>Comuna 05</td>\n",
       "      <td>ARG</td>\n",
       "      <td>02</td>\n",
       "    </tr>\n",
       "  </tbody>\n",
       "</table>\n",
       "</div>"
      ],
      "text/plain": [
       "    adm2       name adm0 adm1\n",
       "0  02001  Comuna 01  ARG   02\n",
       "1  02002  Comuna 02  ARG   02\n",
       "2  02003  Comuna 03  ARG   02\n",
       "3  02004  Comuna 04  ARG   02\n",
       "4  02005  Comuna 05  ARG   02"
      ]
     },
     "execution_count": 9,
     "metadata": {},
     "output_type": "execute_result"
    }
   ],
   "source": [
    "df_adm2[\"adm0\"] = \"ARG\"\n",
    "df_adm2 = df_adm2[[\"adm2\", \"name\", \"adm0\", \"adm1\"]]\n",
    "df_adm2.head()"
   ]
  },
  {
   "cell_type": "code",
   "execution_count": 10,
   "id": "88a42116-3126-4627-a30b-805cd788f4bf",
   "metadata": {
    "tags": []
   },
   "outputs": [],
   "source": [
    "with session() as sess:\n",
    "    ADM2.drop_table()\n",
    "    ADM2.create_table()\n",
    "\n",
    "    sess.execute(\"INSERT INTO adm2 SELECT * FROM df_adm2\")\n",
    "    sess.commit()"
   ]
  },
  {
   "cell_type": "code",
   "execution_count": 11,
   "id": "d1ca9fbd-67dd-4350-8deb-7b7778f63dfd",
   "metadata": {
    "tags": []
   },
   "outputs": [
    {
     "data": {
      "text/plain": [
       "[Comuna 01, Comuna 02, Comuna 03, Comuna 04, Comuna 05]"
      ]
     },
     "execution_count": 11,
     "metadata": {},
     "output_type": "execute_result"
    }
   ],
   "source": [
    "ADM2.filter()[:5]"
   ]
  },
  {
   "cell_type": "code",
   "execution_count": 12,
   "id": "1f4c58c9-0b97-4d6d-989a-ae21a2824a80",
   "metadata": {
    "tags": []
   },
   "outputs": [
    {
     "data": {
      "text/plain": [
       "[Comuna 01,\n",
       " Comuna 02,\n",
       " Comuna 03,\n",
       " Comuna 04,\n",
       " Comuna 05,\n",
       " Comuna 06,\n",
       " Comuna 07,\n",
       " Comuna 08,\n",
       " Comuna 09,\n",
       " Comuna 10,\n",
       " Comuna 11,\n",
       " Comuna 12,\n",
       " Comuna 13,\n",
       " Comuna 14,\n",
       " Comuna 15]"
      ]
     },
     "execution_count": 12,
     "metadata": {},
     "output_type": "execute_result"
    }
   ],
   "source": [
    "ADM2.filter(adm1=\"02\", adm0=\"ARG\")"
   ]
  },
  {
   "cell_type": "code",
   "execution_count": 13,
   "id": "ea23b6d6-1cc9-41a6-8fd3-95adfbad9b11",
   "metadata": {
    "tags": []
   },
   "outputs": [
    {
     "data": {
      "text/plain": [
       "Comuna 01"
      ]
     },
     "execution_count": 13,
     "metadata": {},
     "output_type": "execute_result"
    }
   ],
   "source": [
    "ADM2.get(code=\"02001\", adm0=\"ARG\")"
   ]
  },
  {
   "cell_type": "code",
   "execution_count": 14,
   "id": "6308747f-1863-4e6a-a6b0-8d5dac9f3676",
   "metadata": {
    "tags": []
   },
   "outputs": [
    {
     "data": {
      "text/plain": [
       "Comuna 01"
      ]
     },
     "execution_count": 14,
     "metadata": {},
     "output_type": "execute_result"
    }
   ],
   "source": [
    "ADM2.get(name=\"Comuna 01\", adm0=\"ARG\")"
   ]
  },
  {
   "cell_type": "code",
   "execution_count": null,
   "id": "dd2feb3f-d777-4f8c-94c7-8a8afde46650",
   "metadata": {},
   "outputs": [],
   "source": []
  }
 ],
 "metadata": {
  "kernelspec": {
   "display_name": "Python 3 (ipykernel)",
   "language": "python",
   "name": "python3"
  },
  "language_info": {
   "codemirror_mode": {
    "name": "ipython",
    "version": 3
   },
   "file_extension": ".py",
   "mimetype": "text/x-python",
   "name": "python",
   "nbconvert_exporter": "python",
   "pygments_lexer": "ipython3",
   "version": "3.11.8"
  }
 },
 "nbformat": 4,
 "nbformat_minor": 5
}
