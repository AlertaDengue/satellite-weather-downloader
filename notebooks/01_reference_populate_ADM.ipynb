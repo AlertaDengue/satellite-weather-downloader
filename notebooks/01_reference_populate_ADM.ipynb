{
 "cells": [
  {
   "cell_type": "code",
   "execution_count": 1,
   "id": "e21f9411-57fd-4f9b-95e0-4092a274879b",
   "metadata": {
    "tags": []
   },
   "outputs": [],
   "source": [
    "# INFO: This notebook is for reference purposes only, it describes how ADM.duckdb was populated and may not work in the future (read only DB)\n",
    "\n",
    "import pandas as pd\n",
    "import geopandas as gpd\n",
    "\n",
    "from satellite.geo.functional import session\n",
    "from satellite.geo.models import ADM0, ADM1, ADM2"
   ]
  },
  {
   "cell_type": "markdown",
   "id": "98f3c2ec-04d9-4221-a9fb-58d8b3754d38",
   "metadata": {},
   "source": [
    "### ARG 🇦🇷"
   ]
  },
  {
   "cell_type": "markdown",
   "id": "421528fd-e128-4533-8e75-d68388b7ffc3",
   "metadata": {},
   "source": [
    "#### ADM1"
   ]
  },
  {
   "cell_type": "code",
   "execution_count": 2,
   "id": "849d8196-d101-4351-9b18-3b55393c3e86",
   "metadata": {
    "tags": []
   },
   "outputs": [
    {
     "data": {
      "text/html": [
       "<div>\n",
       "<style scoped>\n",
       "    .dataframe tbody tr th:only-of-type {\n",
       "        vertical-align: middle;\n",
       "    }\n",
       "\n",
       "    .dataframe tbody tr th {\n",
       "        vertical-align: top;\n",
       "    }\n",
       "\n",
       "    .dataframe thead th {\n",
       "        text-align: right;\n",
       "    }\n",
       "</style>\n",
       "<table border=\"1\" class=\"dataframe\">\n",
       "  <thead>\n",
       "    <tr style=\"text-align: right;\">\n",
       "      <th></th>\n",
       "      <th>adm1</th>\n",
       "      <th>name</th>\n",
       "      <th>adm0</th>\n",
       "    </tr>\n",
       "  </thead>\n",
       "  <tbody>\n",
       "    <tr>\n",
       "      <th>0</th>\n",
       "      <td>02</td>\n",
       "      <td>Ciudad Autónoma de Buenos Aires</td>\n",
       "      <td>ARG</td>\n",
       "    </tr>\n",
       "    <tr>\n",
       "      <th>1</th>\n",
       "      <td>10</td>\n",
       "      <td>Catamarca</td>\n",
       "      <td>ARG</td>\n",
       "    </tr>\n",
       "    <tr>\n",
       "      <th>2</th>\n",
       "      <td>14</td>\n",
       "      <td>Córdoba</td>\n",
       "      <td>ARG</td>\n",
       "    </tr>\n",
       "    <tr>\n",
       "      <th>3</th>\n",
       "      <td>18</td>\n",
       "      <td>Corrientes</td>\n",
       "      <td>ARG</td>\n",
       "    </tr>\n",
       "    <tr>\n",
       "      <th>4</th>\n",
       "      <td>22</td>\n",
       "      <td>Chaco</td>\n",
       "      <td>ARG</td>\n",
       "    </tr>\n",
       "  </tbody>\n",
       "</table>\n",
       "</div>"
      ],
      "text/plain": [
       "  adm1                             name adm0\n",
       "0   02  Ciudad Autónoma de Buenos Aires  ARG\n",
       "1   10                        Catamarca  ARG\n",
       "2   14                          Córdoba  ARG\n",
       "3   18                       Corrientes  ARG\n",
       "4   22                            Chaco  ARG"
      ]
     },
     "execution_count": 2,
     "metadata": {},
     "output_type": "execute_result"
    }
   ],
   "source": [
    "df_adm1_ARG = gpd.read_file(\"provincias.geojson\") # https://github.com/PoliticaArgentina/data_warehouse/blob/master/geoAr/data_raw/provincias.geojson\n",
    "df_adm1_ARG = df_adm1_ARG[[\"codprov_censo\", \"provincia\"]]\n",
    "df_adm1_ARG = df_adm1_ARG.rename(columns={\"codprov_censo\": \"adm1\", \"provincia\": \"name\"})\n",
    "df_adm1_ARG[\"adm0\"] = \"ARG\"\n",
    "df_adm1_ARG.head()"
   ]
  },
  {
   "cell_type": "code",
   "execution_count": 3,
   "id": "15c0df69-a211-493b-b80a-2ca26d62a61b",
   "metadata": {
    "tags": []
   },
   "outputs": [],
   "source": [
    "with session() as sess:\n",
    "    for adm in [ADM0, ADM1]:\n",
    "        adm.drop_table()\n",
    "        adm.create_table()\n",
    "        \n",
    "    sess.execute(\"INSERT INTO adm0 (code, name) VALUES ('ARG', 'Argentina')\")\n",
    "    sess.execute(\"INSERT INTO adm0 (code, name) VALUES ('BRA', 'Brazil')\")\n",
    "    sess.execute(\"INSERT INTO adm1 SELECT * FROM df_adm1_ARG\")\n",
    "    sess.commit()"
   ]
  },
  {
   "cell_type": "code",
   "execution_count": 4,
   "id": "26cd94e7-29d0-4045-847d-f113d39f552d",
   "metadata": {
    "tags": []
   },
   "outputs": [
    {
     "data": {
      "text/plain": [
       "Argentina"
      ]
     },
     "execution_count": 4,
     "metadata": {},
     "output_type": "execute_result"
    }
   ],
   "source": [
    "ADM0.get(code=\"ARG\")"
   ]
  },
  {
   "cell_type": "code",
   "execution_count": 5,
   "id": "26697af4-0954-4071-821f-a76a35c65ea1",
   "metadata": {
    "tags": []
   },
   "outputs": [
    {
     "data": {
      "text/plain": [
       "[Ciudad Autónoma de Buenos Aires, Catamarca, Córdoba, Corrientes, Chaco]"
      ]
     },
     "execution_count": 5,
     "metadata": {},
     "output_type": "execute_result"
    }
   ],
   "source": [
    "ADM1.filter(adm0=\"ARG\")[:5]"
   ]
  },
  {
   "cell_type": "code",
   "execution_count": 6,
   "id": "d09f72cb-9dd5-4e1d-8399-cbda3d1e6926",
   "metadata": {
    "tags": []
   },
   "outputs": [
    {
     "data": {
      "text/plain": [
       "[Catamarca]"
      ]
     },
     "execution_count": 6,
     "metadata": {},
     "output_type": "execute_result"
    }
   ],
   "source": [
    "ADM1.filter(name=\"Catamarca\", adm0=\"ARG\")"
   ]
  },
  {
   "cell_type": "code",
   "execution_count": 7,
   "id": "10fa073c-452d-4d6f-9c20-e0c59c7042dc",
   "metadata": {
    "tags": []
   },
   "outputs": [
    {
     "data": {
      "text/plain": [
       "[Catamarca]"
      ]
     },
     "execution_count": 7,
     "metadata": {},
     "output_type": "execute_result"
    }
   ],
   "source": [
    "ADM1.filter(code=\"10\", adm0=\"ARG\")"
   ]
  },
  {
   "cell_type": "markdown",
   "id": "c7a24227-e674-44ce-bc14-b38a9b67559f",
   "metadata": {
    "tags": []
   },
   "source": [
    "#### ADM2"
   ]
  },
  {
   "cell_type": "code",
   "execution_count": 8,
   "id": "99fe9150-8d2c-4fd7-9f45-6f9a0a22686a",
   "metadata": {
    "tags": []
   },
   "outputs": [
    {
     "data": {
      "text/html": [
       "<div>\n",
       "<style scoped>\n",
       "    .dataframe tbody tr th:only-of-type {\n",
       "        vertical-align: middle;\n",
       "    }\n",
       "\n",
       "    .dataframe tbody tr th {\n",
       "        vertical-align: top;\n",
       "    }\n",
       "\n",
       "    .dataframe thead th {\n",
       "        text-align: right;\n",
       "    }\n",
       "</style>\n",
       "<table border=\"1\" class=\"dataframe\">\n",
       "  <thead>\n",
       "    <tr style=\"text-align: right;\">\n",
       "      <th></th>\n",
       "      <th>adm1</th>\n",
       "      <th>adm2</th>\n",
       "      <th>name</th>\n",
       "      <th>geometry</th>\n",
       "    </tr>\n",
       "  </thead>\n",
       "  <tbody>\n",
       "    <tr>\n",
       "      <th>0</th>\n",
       "      <td>02</td>\n",
       "      <td>02001</td>\n",
       "      <td>Comuna 01</td>\n",
       "      <td>POLYGON ((-58.36801 -34.57821, -58.36798 -34.5...</td>\n",
       "    </tr>\n",
       "    <tr>\n",
       "      <th>1</th>\n",
       "      <td>02</td>\n",
       "      <td>02002</td>\n",
       "      <td>Comuna 02</td>\n",
       "      <td>POLYGON ((-58.3944 -34.59968, -58.39471 -34.59...</td>\n",
       "    </tr>\n",
       "    <tr>\n",
       "      <th>2</th>\n",
       "      <td>02</td>\n",
       "      <td>02003</td>\n",
       "      <td>Comuna 03</td>\n",
       "      <td>POLYGON ((-58.4103 -34.59809, -58.40943 -34.59...</td>\n",
       "    </tr>\n",
       "    <tr>\n",
       "      <th>3</th>\n",
       "      <td>02</td>\n",
       "      <td>02004</td>\n",
       "      <td>Comuna 04</td>\n",
       "      <td>MULTIPOLYGON (((-58.35987 -34.62558, -58.35978...</td>\n",
       "    </tr>\n",
       "    <tr>\n",
       "      <th>4</th>\n",
       "      <td>02</td>\n",
       "      <td>02005</td>\n",
       "      <td>Comuna 05</td>\n",
       "      <td>POLYGON ((-58.41566 -34.59786, -58.41463 -34.5...</td>\n",
       "    </tr>\n",
       "  </tbody>\n",
       "</table>\n",
       "</div>"
      ],
      "text/plain": [
       "  adm1   adm2       name                                           geometry\n",
       "0   02  02001  Comuna 01  POLYGON ((-58.36801 -34.57821, -58.36798 -34.5...\n",
       "1   02  02002  Comuna 02  POLYGON ((-58.3944 -34.59968, -58.39471 -34.59...\n",
       "2   02  02003  Comuna 03  POLYGON ((-58.4103 -34.59809, -58.40943 -34.59...\n",
       "3   02  02004  Comuna 04  MULTIPOLYGON (((-58.35987 -34.62558, -58.35978...\n",
       "4   02  02005  Comuna 05  POLYGON ((-58.41566 -34.59786, -58.41463 -34.5..."
      ]
     },
     "execution_count": 8,
     "metadata": {},
     "output_type": "execute_result"
    }
   ],
   "source": [
    "df_adm2_ARG = gpd.read_file(\"censo_2010.geojson\") # https://github.com/PoliticaArgentina/data_warehouse/blob/master/geoAr/data_raw/censos/censo_2010.geojson\n",
    "df_adm2_ARG = df_adm2_ARG[[\"prov_cod\", \"link\", \"depto\", \"geometry\"]]\n",
    "df_adm2_ARG = df_adm2_ARG.rename(columns={\"prov_cod\": \"adm1\", \"link\": \"adm2\", \"depto\": \"name\"})\n",
    "\"\"\"\n",
    "df_gpkg = df_adm2_ARG[[\"adm1\", \"adm2\", \"geometry\"]]\n",
    "df_gpkg.to_file(\"ARG.gpkg\", driver=\"GPKG\")\n",
    "\"\"\"\n",
    "df_adm2_ARG.head()"
   ]
  },
  {
   "cell_type": "code",
   "execution_count": 9,
   "id": "fd1c21d8-b72a-4f2c-8454-6ac586b62c14",
   "metadata": {
    "tags": []
   },
   "outputs": [
    {
     "data": {
      "text/html": [
       "<div>\n",
       "<style scoped>\n",
       "    .dataframe tbody tr th:only-of-type {\n",
       "        vertical-align: middle;\n",
       "    }\n",
       "\n",
       "    .dataframe tbody tr th {\n",
       "        vertical-align: top;\n",
       "    }\n",
       "\n",
       "    .dataframe thead th {\n",
       "        text-align: right;\n",
       "    }\n",
       "</style>\n",
       "<table border=\"1\" class=\"dataframe\">\n",
       "  <thead>\n",
       "    <tr style=\"text-align: right;\">\n",
       "      <th></th>\n",
       "      <th>adm2</th>\n",
       "      <th>name</th>\n",
       "      <th>adm0</th>\n",
       "      <th>adm1</th>\n",
       "    </tr>\n",
       "  </thead>\n",
       "  <tbody>\n",
       "    <tr>\n",
       "      <th>0</th>\n",
       "      <td>02001</td>\n",
       "      <td>Comuna 01</td>\n",
       "      <td>ARG</td>\n",
       "      <td>02</td>\n",
       "    </tr>\n",
       "    <tr>\n",
       "      <th>1</th>\n",
       "      <td>02002</td>\n",
       "      <td>Comuna 02</td>\n",
       "      <td>ARG</td>\n",
       "      <td>02</td>\n",
       "    </tr>\n",
       "    <tr>\n",
       "      <th>2</th>\n",
       "      <td>02003</td>\n",
       "      <td>Comuna 03</td>\n",
       "      <td>ARG</td>\n",
       "      <td>02</td>\n",
       "    </tr>\n",
       "    <tr>\n",
       "      <th>3</th>\n",
       "      <td>02004</td>\n",
       "      <td>Comuna 04</td>\n",
       "      <td>ARG</td>\n",
       "      <td>02</td>\n",
       "    </tr>\n",
       "    <tr>\n",
       "      <th>4</th>\n",
       "      <td>02005</td>\n",
       "      <td>Comuna 05</td>\n",
       "      <td>ARG</td>\n",
       "      <td>02</td>\n",
       "    </tr>\n",
       "  </tbody>\n",
       "</table>\n",
       "</div>"
      ],
      "text/plain": [
       "    adm2       name adm0 adm1\n",
       "0  02001  Comuna 01  ARG   02\n",
       "1  02002  Comuna 02  ARG   02\n",
       "2  02003  Comuna 03  ARG   02\n",
       "3  02004  Comuna 04  ARG   02\n",
       "4  02005  Comuna 05  ARG   02"
      ]
     },
     "execution_count": 9,
     "metadata": {},
     "output_type": "execute_result"
    }
   ],
   "source": [
    "df_adm2_ARG[\"adm0\"] = \"ARG\"\n",
    "df_adm2_ARG = df_adm2_ARG[[\"adm2\", \"name\", \"adm0\", \"adm1\"]]\n",
    "df_adm2_ARG.head()"
   ]
  },
  {
   "cell_type": "code",
   "execution_count": 10,
   "id": "88a42116-3126-4627-a30b-805cd788f4bf",
   "metadata": {
    "tags": []
   },
   "outputs": [],
   "source": [
    "with session() as sess:\n",
    "    ADM2.drop_table()\n",
    "    ADM2.create_table()\n",
    "\n",
    "    sess.execute(\"INSERT INTO adm2 SELECT * FROM df_adm2_ARG\")\n",
    "    sess.commit()"
   ]
  },
  {
   "cell_type": "code",
   "execution_count": 11,
   "id": "d1ca9fbd-67dd-4350-8deb-7b7778f63dfd",
   "metadata": {
    "tags": []
   },
   "outputs": [
    {
     "data": {
      "text/plain": [
       "[Comuna 01, Comuna 02, Comuna 03, Comuna 04, Comuna 05]"
      ]
     },
     "execution_count": 11,
     "metadata": {},
     "output_type": "execute_result"
    }
   ],
   "source": [
    "ADM2.filter(adm0=\"ARG\")[:5]"
   ]
  },
  {
   "cell_type": "code",
   "execution_count": 12,
   "id": "1f4c58c9-0b97-4d6d-989a-ae21a2824a80",
   "metadata": {
    "tags": []
   },
   "outputs": [
    {
     "data": {
      "text/plain": [
       "[Comuna 01,\n",
       " Comuna 02,\n",
       " Comuna 03,\n",
       " Comuna 04,\n",
       " Comuna 05,\n",
       " Comuna 06,\n",
       " Comuna 07,\n",
       " Comuna 08,\n",
       " Comuna 09,\n",
       " Comuna 10,\n",
       " Comuna 11,\n",
       " Comuna 12,\n",
       " Comuna 13,\n",
       " Comuna 14,\n",
       " Comuna 15]"
      ]
     },
     "execution_count": 12,
     "metadata": {},
     "output_type": "execute_result"
    }
   ],
   "source": [
    "ADM2.filter(adm1=\"02\", adm0=\"ARG\")"
   ]
  },
  {
   "cell_type": "code",
   "execution_count": 13,
   "id": "ea23b6d6-1cc9-41a6-8fd3-95adfbad9b11",
   "metadata": {
    "tags": []
   },
   "outputs": [
    {
     "data": {
      "text/plain": [
       "Comuna 01"
      ]
     },
     "execution_count": 13,
     "metadata": {},
     "output_type": "execute_result"
    }
   ],
   "source": [
    "ADM2.get(code=\"02001\", adm0=\"ARG\")"
   ]
  },
  {
   "cell_type": "code",
   "execution_count": 14,
   "id": "6308747f-1863-4e6a-a6b0-8d5dac9f3676",
   "metadata": {
    "tags": []
   },
   "outputs": [
    {
     "data": {
      "text/plain": [
       "Comuna 01"
      ]
     },
     "execution_count": 14,
     "metadata": {},
     "output_type": "execute_result"
    }
   ],
   "source": [
    "ADM2.get(name=\"Comuna 01\", adm0=\"ARG\")"
   ]
  },
  {
   "cell_type": "markdown",
   "id": "04fce559-d403-4d9f-8546-897b6219530e",
   "metadata": {},
   "source": [
    "### BRA 🇧🇷\n",
    "\n",
    "https://www.ibge.gov.br/geociencias/organizacao-do-territorio/estrutura-territorial/15774-malhas.html"
   ]
  },
  {
   "cell_type": "code",
   "execution_count": 15,
   "id": "ecaeb1d0-56b5-4b58-8798-fd2699d08f0f",
   "metadata": {
    "tags": []
   },
   "outputs": [
    {
     "data": {
      "text/html": [
       "<div>\n",
       "<style scoped>\n",
       "    .dataframe tbody tr th:only-of-type {\n",
       "        vertical-align: middle;\n",
       "    }\n",
       "\n",
       "    .dataframe tbody tr th {\n",
       "        vertical-align: top;\n",
       "    }\n",
       "\n",
       "    .dataframe thead th {\n",
       "        text-align: right;\n",
       "    }\n",
       "</style>\n",
       "<table border=\"1\" class=\"dataframe\">\n",
       "  <thead>\n",
       "    <tr style=\"text-align: right;\">\n",
       "      <th></th>\n",
       "      <th>adm1</th>\n",
       "      <th>name</th>\n",
       "      <th>adm0</th>\n",
       "    </tr>\n",
       "  </thead>\n",
       "  <tbody>\n",
       "    <tr>\n",
       "      <th>0</th>\n",
       "      <td>12</td>\n",
       "      <td>Acre</td>\n",
       "      <td>BRA</td>\n",
       "    </tr>\n",
       "    <tr>\n",
       "      <th>1</th>\n",
       "      <td>13</td>\n",
       "      <td>Amazonas</td>\n",
       "      <td>BRA</td>\n",
       "    </tr>\n",
       "    <tr>\n",
       "      <th>2</th>\n",
       "      <td>15</td>\n",
       "      <td>ParÃ¡</td>\n",
       "      <td>BRA</td>\n",
       "    </tr>\n",
       "    <tr>\n",
       "      <th>3</th>\n",
       "      <td>16</td>\n",
       "      <td>AmapÃ¡</td>\n",
       "      <td>BRA</td>\n",
       "    </tr>\n",
       "    <tr>\n",
       "      <th>4</th>\n",
       "      <td>17</td>\n",
       "      <td>Tocantins</td>\n",
       "      <td>BRA</td>\n",
       "    </tr>\n",
       "  </tbody>\n",
       "</table>\n",
       "</div>"
      ],
      "text/plain": [
       "  adm1       name adm0\n",
       "0   12       Acre  BRA\n",
       "1   13   Amazonas  BRA\n",
       "2   15      ParÃ¡  BRA\n",
       "3   16     AmapÃ¡  BRA\n",
       "4   17  Tocantins  BRA"
      ]
     },
     "execution_count": 15,
     "metadata": {},
     "output_type": "execute_result"
    }
   ],
   "source": [
    "df_adm1_BRA = gpd.GeoDataFrame.from_file(\"BR_UF_2022.dbf\")\n",
    "df_adm1_BRA = df_adm1_BRA[[\"CD_UF\", \"NM_UF\"]]\n",
    "df_adm1_BRA = df_adm1_BRA.rename(columns={\"CD_UF\": \"adm1\",\"NM_UF\": \"name\"})\n",
    "df_adm1_BRA[\"adm0\"] = \"BRA\"\n",
    "df_adm1_BRA.head()"
   ]
  },
  {
   "cell_type": "code",
   "execution_count": 16,
   "id": "ebedb6d3-8fb6-4057-9a89-26f972c8bf5e",
   "metadata": {},
   "outputs": [],
   "source": [
    "with session() as sess:\n",
    "    sess.execute(\"DELETE FROM adm1 WHERE adm0 = 'BRA'\")\n",
    "    sess.execute(\"INSERT INTO adm1 SELECT * FROM df_adm1_BRA\")\n",
    "    sess.commit()"
   ]
  },
  {
   "cell_type": "code",
   "execution_count": 17,
   "id": "ad9a5fdb-8ede-446f-b837-09e314f459f0",
   "metadata": {},
   "outputs": [
    {
     "data": {
      "text/plain": [
       "Brazil"
      ]
     },
     "execution_count": 17,
     "metadata": {},
     "output_type": "execute_result"
    }
   ],
   "source": [
    "ADM0.get(code=\"BRA\")"
   ]
  },
  {
   "cell_type": "code",
   "execution_count": 18,
   "id": "15c5303b-b4ca-4ec4-a93a-b6898fb61e9a",
   "metadata": {
    "tags": []
   },
   "outputs": [
    {
     "data": {
      "text/plain": [
       "[Acre, Amazonas, ParÃ¡, AmapÃ¡, Tocantins]"
      ]
     },
     "execution_count": 18,
     "metadata": {},
     "output_type": "execute_result"
    }
   ],
   "source": [
    "ADM1.filter(adm0=\"BRA\")[:5]"
   ]
  },
  {
   "cell_type": "code",
   "execution_count": 19,
   "id": "edc13606-0234-42a5-afce-23f848095ba9",
   "metadata": {
    "tags": []
   },
   "outputs": [
    {
     "data": {
      "text/plain": [
       "[Santa Catarina]"
      ]
     },
     "execution_count": 19,
     "metadata": {},
     "output_type": "execute_result"
    }
   ],
   "source": [
    "ADM1.filter(name=\"Santa Catarina\", adm0=\"BRA\")"
   ]
  },
  {
   "cell_type": "code",
   "execution_count": 20,
   "id": "ebae3390-42e4-41b9-bca0-94e6a079b612",
   "metadata": {
    "tags": []
   },
   "outputs": [
    {
     "data": {
      "text/plain": [
       "[Santa Catarina]"
      ]
     },
     "execution_count": 20,
     "metadata": {},
     "output_type": "execute_result"
    }
   ],
   "source": [
    "ADM1.filter(code=\"42\", adm0=\"BRA\")"
   ]
  },
  {
   "cell_type": "code",
   "execution_count": 21,
   "id": "c38fc414-0a30-49c6-a0f2-e726be78d6b9",
   "metadata": {
    "tags": []
   },
   "outputs": [
    {
     "data": {
      "text/html": [
       "<div>\n",
       "<style scoped>\n",
       "    .dataframe tbody tr th:only-of-type {\n",
       "        vertical-align: middle;\n",
       "    }\n",
       "\n",
       "    .dataframe tbody tr th {\n",
       "        vertical-align: top;\n",
       "    }\n",
       "\n",
       "    .dataframe thead th {\n",
       "        text-align: right;\n",
       "    }\n",
       "</style>\n",
       "<table border=\"1\" class=\"dataframe\">\n",
       "  <thead>\n",
       "    <tr style=\"text-align: right;\">\n",
       "      <th></th>\n",
       "      <th>adm2</th>\n",
       "      <th>name</th>\n",
       "      <th>adm0</th>\n",
       "      <th>adm1</th>\n",
       "    </tr>\n",
       "  </thead>\n",
       "  <tbody>\n",
       "    <tr>\n",
       "      <th>0</th>\n",
       "      <td>1100015</td>\n",
       "      <td>Alta Floresta D'Oeste</td>\n",
       "      <td>BRA</td>\n",
       "      <td>11</td>\n",
       "    </tr>\n",
       "    <tr>\n",
       "      <th>1</th>\n",
       "      <td>1100023</td>\n",
       "      <td>Ariquemes</td>\n",
       "      <td>BRA</td>\n",
       "      <td>11</td>\n",
       "    </tr>\n",
       "    <tr>\n",
       "      <th>2</th>\n",
       "      <td>1100031</td>\n",
       "      <td>Cabixi</td>\n",
       "      <td>BRA</td>\n",
       "      <td>11</td>\n",
       "    </tr>\n",
       "    <tr>\n",
       "      <th>3</th>\n",
       "      <td>1100049</td>\n",
       "      <td>Cacoal</td>\n",
       "      <td>BRA</td>\n",
       "      <td>11</td>\n",
       "    </tr>\n",
       "    <tr>\n",
       "      <th>4</th>\n",
       "      <td>1100056</td>\n",
       "      <td>Cerejeiras</td>\n",
       "      <td>BRA</td>\n",
       "      <td>11</td>\n",
       "    </tr>\n",
       "  </tbody>\n",
       "</table>\n",
       "</div>"
      ],
      "text/plain": [
       "      adm2                   name adm0 adm1\n",
       "0  1100015  Alta Floresta D'Oeste  BRA   11\n",
       "1  1100023              Ariquemes  BRA   11\n",
       "2  1100031                 Cabixi  BRA   11\n",
       "3  1100049                 Cacoal  BRA   11\n",
       "4  1100056             Cerejeiras  BRA   11"
      ]
     },
     "execution_count": 21,
     "metadata": {},
     "output_type": "execute_result"
    }
   ],
   "source": [
    "df_adm2_BRA = gpd.GeoDataFrame.from_file(\"BR_Municipios_2022.dbf\")\n",
    "df_adm2_BRA[\"adm1\"] = df_adm2_BRA['CD_MUN'].astype(str).str[:2]\n",
    "df_adm2_BRA = df_adm2_BRA.rename(columns={\"CD_MUN\": \"adm2\", \"NM_MUN\": \"name\"})\n",
    "\"\"\"\n",
    "df_gpkg = df_adm2_BRA[[\"adm1\", \"adm2\", \"geometry\"]]\n",
    "df_gpkg.to_file(\"BRA.gpkg\", driver=\"GPKG\")\n",
    "\"\"\"\n",
    "df_adm2_BRA[\"adm0\"] = \"BRA\"\n",
    "df_adm2_BRA = df_adm2_BRA[[\"adm2\", \"name\", \"adm0\", \"adm1\"]]\n",
    "df_adm2_BRA.head()"
   ]
  },
  {
   "cell_type": "code",
   "execution_count": 22,
   "id": "b629da9f-87fd-49d3-9bef-2cb08a012ada",
   "metadata": {
    "tags": []
   },
   "outputs": [],
   "source": [
    "with session() as sess:\n",
    "    sess.execute(\"DELETE FROM adm2 WHERE adm0 = 'BRA'\")\n",
    "    sess.execute(\"INSERT INTO adm2 SELECT * FROM df_adm2_BRA\")\n",
    "    sess.commit()"
   ]
  },
  {
   "cell_type": "code",
   "execution_count": 23,
   "id": "8a43454a-c101-48b4-9ea2-3cf7a38c8a47",
   "metadata": {
    "tags": []
   },
   "outputs": [
    {
     "data": {
      "text/plain": [
       "[Alta Floresta D'Oeste, Ariquemes, Cabixi, Cacoal, Cerejeiras]"
      ]
     },
     "execution_count": 23,
     "metadata": {},
     "output_type": "execute_result"
    }
   ],
   "source": [
    "ADM2.filter(adm0=\"BRA\")[:5]"
   ]
  },
  {
   "cell_type": "code",
   "execution_count": 24,
   "id": "c5966fb8-0310-4229-b0e6-3c27a542678f",
   "metadata": {
    "tags": []
   },
   "outputs": [
    {
     "data": {
      "text/plain": [
       "Rio de Janeiro"
      ]
     },
     "execution_count": 24,
     "metadata": {},
     "output_type": "execute_result"
    }
   ],
   "source": [
    "ADM2.get(code=\"3304557\", adm0=\"BRA\")"
   ]
  }
 ],
 "metadata": {
  "kernelspec": {
   "display_name": "Python 3 (ipykernel)",
   "language": "python",
   "name": "python3"
  },
  "language_info": {
   "codemirror_mode": {
    "name": "ipython",
    "version": 3
   },
   "file_extension": ".py",
   "mimetype": "text/x-python",
   "name": "python",
   "nbconvert_exporter": "python",
   "pygments_lexer": "ipython3",
   "version": "3.11.8"
  }
 },
 "nbformat": 4,
 "nbformat_minor": 5
}
