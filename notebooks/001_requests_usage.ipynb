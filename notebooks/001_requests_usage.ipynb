{
 "cells": [
  {
   "cell_type": "code",
   "execution_count": 1,
   "id": "9b5d5e8f-3ae8-4477-9d3d-4c0966fd2c1f",
   "metadata": {
    "tags": []
   },
   "outputs": [
    {
     "data": {
      "text/plain": [
       "True"
      ]
     },
     "execution_count": 1,
     "metadata": {},
     "output_type": "execute_result"
    }
   ],
   "source": [
    "import dotenv\n",
    "dotenv.load_dotenv() # CDSAPI_TOKEN"
   ]
  },
  {
   "cell_type": "markdown",
   "id": "ac072d41-b652-407e-8ba5-eb2271610a59",
   "metadata": {},
   "source": [
    "---\n",
    "\n",
    "## ERA5 Land (reanalysis)\n",
    "### https://cds.climate.copernicus.eu/datasets/reanalysis-era5-land"
   ]
  },
  {
   "cell_type": "markdown",
   "id": "29f20761-294c-4f8f-9c0d-ffff38147dbe",
   "metadata": {},
   "source": [
    "### Default options:\n",
    "\n",
    "```python\n",
    "product_type: list[str] = [\"reanalysis\"]\n",
    "variable: list[str] = [\"2m_temperature\", \"total_precipitation\", \"2m_dewpoint_temperature\", \"surface_pressure\"]\n",
    "date: str = str((datetime.now() - timedelta(days=6)).date()) # ISO8601 (YYYY-mm-dd)\n",
    "time: list[str] = [\n",
    "    \"00:00\", \"03:00\", \"06:00\",\n",
    "    \"09:00\", \"12:00\", \"15:00\",\n",
    "    \"18:00\", \"21:00\",\n",
    "],\n",
    "locale: Optional[Literal[\"BRA\", \"ARG\"]] = None\n",
    "area : Optional[Dict[Literal[\"N\", \"S\", \"W\", \"E\"], float]] = None\n",
    "format : Literal[\"grib\", \"netcdf\"] = \"netcdf\"\n",
    "download_format: Literal[\"zip\", \"unarchived\"] = \"zip\"\n",
    "```"
   ]
  },
  {
   "cell_type": "code",
   "execution_count": 2,
   "id": "1bd988db-97a6-4521-8076-4406c712d94a",
   "metadata": {
    "tags": []
   },
   "outputs": [],
   "source": [
    "from satellite import request"
   ]
  },
  {
   "cell_type": "code",
   "execution_count": null,
   "id": "560027fd-758c-4853-88ad-3ba99498e453",
   "metadata": {
    "tags": []
   },
   "outputs": [
    {
     "name": "stderr",
     "output_type": "stream",
     "text": [
      "2024-11-01 15:24:11,092 INFO [2024-09-28T00:00:00] **Welcome to the New Climate Data Store (CDS)!** This new system is in its early days of full operations and still undergoing enhancements and fine tuning. Some disruptions are to be expected. Your \n",
      "[feedback](https://jira.ecmwf.int/plugins/servlet/desk/portal/1/create/202) is key to improve the user experience on the new CDS for the benefit of everyone. Thank you.\n",
      "2024-11-01 15:24:11,093 WARNING [2024-09-26T00:00:00] Should you have not yet migrated from the old CDS system to the new CDS, please check our [informative page](https://confluence.ecmwf.int/x/uINmFw) for guidance.\n",
      "2024-11-01 15:24:11,094 INFO [2024-09-26T00:00:00] Watch our [Forum](https://forum.ecmwf.int/) for Announcements, news and other discussed topics.\n",
      "2024-11-01 15:24:11,095 INFO [2024-09-16T00:00:00] Remember that you need to have an ECMWF account to use the new CDS. **Your old CDS credentials will not work in new CDS!**\n",
      "2024-11-01 15:24:11,095 WARNING [2024-06-16T00:00:00] CDS API syntax is changed and some keys or parameter names may have also changed. To avoid requests failing, please use the \"Show API request code\" tool on the dataset Download Form to check you are using the correct syntax for your API request.\n",
      "2024-11-01 15:24:11,632 INFO Request ID is 50c579bc-477d-47b2-bc6e-904ee2628242\n",
      "2024-11-01 15:24:11,901 INFO status has been updated to accepted\n"
     ]
    }
   ],
   "source": [
    "# Downloads the last update date from Copernicus globalwide\n",
    "request.reanalysis_era5_land(\"example1\", locale=\"ARG\")"
   ]
  },
  {
   "cell_type": "code",
   "execution_count": null,
   "id": "277a1c6e-30b3-42df-83ad-157f691727bc",
   "metadata": {
    "tags": []
   },
   "outputs": [],
   "source": [
    "# Using the request parameters\n",
    "request.reanalysis_era5_land(\"example2\", variable=[\"2m_temperature\"], time=[\"00:00\"], locale=\"BRA\", date=\"2000-01-01/2000-01-15\")"
   ]
  },
  {
   "cell_type": "code",
   "execution_count": null,
   "id": "c5d6a8d0-60fb-4c1d-8162-51c8faab0aa1",
   "metadata": {
    "tags": []
   },
   "outputs": [],
   "source": [
    "# Loads the dataset into memory\n",
    "\n",
    "from satellite import DataSet, ADM2\n",
    "with DataSet.from_netcdf(\"example2.zip\") as ds:\n",
    "    df = ds.cope.to_dataframe(ADM2.get(code=3304557, adm0=\"BRA\"))\n",
    "df"
   ]
  },
  {
   "cell_type": "code",
   "execution_count": null,
   "id": "7480ff53-7d60-463e-8bcb-5b05400fae96",
   "metadata": {
    "tags": []
   },
   "outputs": [],
   "source": [
    "from satellite import DataSet\n",
    "with DataSet.from_netcdf(\"example2.zip\") as ds:\n",
    "    df = ds.cope.to_dataframe(ADM2.filter(adm1=42, adm0=\"BRA\")).reset_index(drop=True) # WARNING: too many ADM2 may result in high CPU usage\n",
    "df"
   ]
  }
 ],
 "metadata": {
  "kernelspec": {
   "display_name": "Python 3 (ipykernel)",
   "language": "python",
   "name": "python3"
  },
  "language_info": {
   "codemirror_mode": {
    "name": "ipython",
    "version": 3
   },
   "file_extension": ".py",
   "mimetype": "text/x-python",
   "name": "python",
   "nbconvert_exporter": "python",
   "pygments_lexer": "ipython3",
   "version": "3.11.10"
  }
 },
 "nbformat": 4,
 "nbformat_minor": 5
}
