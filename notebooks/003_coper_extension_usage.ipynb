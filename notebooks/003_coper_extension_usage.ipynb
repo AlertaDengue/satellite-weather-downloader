{
 "cells": [
  {
   "cell_type": "code",
   "execution_count": 1,
   "id": "9b5d5e8f-3ae8-4477-9d3d-4c0966fd2c1f",
   "metadata": {
    "tags": []
   },
   "outputs": [
    {
     "data": {
      "text/plain": [
       "True"
      ]
     },
     "execution_count": 1,
     "metadata": {},
     "output_type": "execute_result"
    }
   ],
   "source": [
    "import dotenv\n",
    "dotenv.load_dotenv()"
   ]
  },
  {
   "cell_type": "code",
   "execution_count": 2,
   "id": "84e4f655-9a77-4e22-8273-1502dbd41fa8",
   "metadata": {
    "tags": []
   },
   "outputs": [],
   "source": [
    "from satellite import request, ADM2"
   ]
  },
  {
   "cell_type": "code",
   "execution_count": 4,
   "id": "1ae22908-83d4-4e63-8ac6-296bae2712d9",
   "metadata": {
    "tags": []
   },
   "outputs": [
    {
     "data": {
      "text/html": [
       "<div>\n",
       "<style scoped>\n",
       "    .dataframe tbody tr th:only-of-type {\n",
       "        vertical-align: middle;\n",
       "    }\n",
       "\n",
       "    .dataframe tbody tr th {\n",
       "        vertical-align: top;\n",
       "    }\n",
       "\n",
       "    .dataframe thead th {\n",
       "        text-align: right;\n",
       "    }\n",
       "</style>\n",
       "<table border=\"1\" class=\"dataframe\">\n",
       "  <thead>\n",
       "    <tr style=\"text-align: right;\">\n",
       "      <th></th>\n",
       "      <th>date</th>\n",
       "      <th>geocode</th>\n",
       "      <th>temp_max</th>\n",
       "      <th>precip_max</th>\n",
       "      <th>umid_max</th>\n",
       "      <th>pressao_max</th>\n",
       "      <th>temp_med</th>\n",
       "      <th>precip_med</th>\n",
       "      <th>umid_med</th>\n",
       "      <th>pressao_med</th>\n",
       "      <th>temp_min</th>\n",
       "      <th>precip_min</th>\n",
       "      <th>umid_min</th>\n",
       "      <th>pressao_min</th>\n",
       "      <th>precip_tot</th>\n",
       "      <th>epiweek</th>\n",
       "    </tr>\n",
       "  </thead>\n",
       "  <tbody>\n",
       "    <tr>\n",
       "      <th>0</th>\n",
       "      <td>2024-10-22</td>\n",
       "      <td>3304557</td>\n",
       "      <td>30.8855</td>\n",
       "      <td>1.4735</td>\n",
       "      <td>95.7961</td>\n",
       "      <td>0.992</td>\n",
       "      <td>25.1695</td>\n",
       "      <td>0.1854</td>\n",
       "      <td>78.4611</td>\n",
       "      <td>0.9898</td>\n",
       "      <td>20.9851</td>\n",
       "      <td>0.0</td>\n",
       "      <td>52.2234</td>\n",
       "      <td>0.987</td>\n",
       "      <td>1.483</td>\n",
       "      <td>202443</td>\n",
       "    </tr>\n",
       "  </tbody>\n",
       "</table>\n",
       "</div>"
      ],
      "text/plain": [
       "        date  geocode  temp_max  precip_max  umid_max  pressao_max  temp_med  \\\n",
       "0 2024-10-22  3304557   30.8855      1.4735   95.7961        0.992   25.1695   \n",
       "\n",
       "   precip_med  umid_med  pressao_med  temp_min  precip_min  umid_min  \\\n",
       "0      0.1854   78.4611       0.9898   20.9851         0.0   52.2234   \n",
       "\n",
       "   pressao_min  precip_tot epiweek  \n",
       "0        0.987       1.483  202443  "
      ]
     },
     "execution_count": 4,
     "metadata": {},
     "output_type": "execute_result"
    }
   ],
   "source": [
    "with request.reanalysis_era5_land(locale=\"BRA\", date=\"2024-10-22\") as ds:\n",
    "    df = ds.cope.to_dataframe(ADM2.get(code=3304557, adm0=\"BRA\"))\n",
    "df"
   ]
  },
  {
   "cell_type": "code",
   "execution_count": 7,
   "id": "a0a85b6f-4558-4723-811f-3d05d3f18c57",
   "metadata": {
    "tags": []
   },
   "outputs": [
    {
     "name": "stdout",
     "output_type": "stream",
     "text": [
      "1min 17s ± 4.63 s per loop (mean ± std. dev. of 7 runs, 1 loop each)\n"
     ]
    }
   ],
   "source": [
    "%%timeit\n",
    "with request.reanalysis_era5_land(locale=\"BRA\", date=\"2024-10-22\") as ds:\n",
    "    df = ds.cope.to_dataframe(ADM2.filter(adm1=42, adm0=\"BRA\"))\n",
    "df"
   ]
  },
  {
   "cell_type": "code",
   "execution_count": 8,
   "id": "74162d15-b808-455e-b4ca-c6dbf694a6d4",
   "metadata": {
    "tags": []
   },
   "outputs": [
    {
     "name": "stdout",
     "output_type": "stream",
     "text": [
      "2min 54s ± 8.76 s per loop (mean ± std. dev. of 7 runs, 1 loop each)\n"
     ]
    }
   ],
   "source": [
    "%%timeit\n",
    "with request.reanalysis_era5_land(locale=\"ARG\", date=\"2024-10-19\") as ds:\n",
    "    df = ds.cope.to_dataframe(ADM2.filter(adm0=\"ARG\"))\n",
    "df "
   ]
  }
 ],
 "metadata": {
  "kernelspec": {
   "display_name": "Python 3 (ipykernel)",
   "language": "python",
   "name": "python3"
  },
  "language_info": {
   "codemirror_mode": {
    "name": "ipython",
    "version": 3
   },
   "file_extension": ".py",
   "mimetype": "text/x-python",
   "name": "python",
   "nbconvert_exporter": "python",
   "pygments_lexer": "ipython3",
   "version": "3.11.8"
  }
 },
 "nbformat": 4,
 "nbformat_minor": 5
}
