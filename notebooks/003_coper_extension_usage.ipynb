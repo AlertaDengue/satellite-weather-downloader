{
 "cells": [
  {
   "cell_type": "code",
   "execution_count": 1,
   "id": "9b5d5e8f-3ae8-4477-9d3d-4c0966fd2c1f",
   "metadata": {
    "tags": []
   },
   "outputs": [
    {
     "data": {
      "text/plain": [
       "True"
      ]
     },
     "execution_count": 1,
     "metadata": {},
     "output_type": "execute_result"
    }
   ],
   "source": [
    "import dotenv\n",
    "dotenv.load_dotenv()"
   ]
  },
  {
   "cell_type": "code",
   "execution_count": 2,
   "id": "84e4f655-9a77-4e22-8273-1502dbd41fa8",
   "metadata": {
    "tags": []
   },
   "outputs": [],
   "source": [
    "from satellite import request, ADM2"
   ]
  },
  {
   "cell_type": "code",
   "execution_count": 4,
   "id": "1ae22908-83d4-4e63-8ac6-296bae2712d9",
   "metadata": {
    "tags": []
   },
   "outputs": [
    {
     "data": {
      "text/html": [
       "<div>\n",
       "<style scoped>\n",
       "    .dataframe tbody tr th:only-of-type {\n",
       "        vertical-align: middle;\n",
       "    }\n",
       "\n",
       "    .dataframe tbody tr th {\n",
       "        vertical-align: top;\n",
       "    }\n",
       "\n",
       "    .dataframe thead th {\n",
       "        text-align: right;\n",
       "    }\n",
       "</style>\n",
       "<table border=\"1\" class=\"dataframe\">\n",
       "  <thead>\n",
       "    <tr style=\"text-align: right;\">\n",
       "      <th></th>\n",
       "      <th>date</th>\n",
       "      <th>geocode</th>\n",
       "      <th>temp_max</th>\n",
       "      <th>precip_max</th>\n",
       "      <th>umid_max</th>\n",
       "      <th>pressao_max</th>\n",
       "      <th>temp_med</th>\n",
       "      <th>precip_med</th>\n",
       "      <th>umid_med</th>\n",
       "      <th>pressao_med</th>\n",
       "      <th>temp_min</th>\n",
       "      <th>precip_min</th>\n",
       "      <th>umid_min</th>\n",
       "      <th>pressao_min</th>\n",
       "      <th>precip_tot</th>\n",
       "      <th>epiweek</th>\n",
       "    </tr>\n",
       "  </thead>\n",
       "  <tbody>\n",
       "    <tr>\n",
       "      <th>0</th>\n",
       "      <td>2024-10-22</td>\n",
       "      <td>3304557</td>\n",
       "      <td>30.8855</td>\n",
       "      <td>1.4735</td>\n",
       "      <td>95.7961</td>\n",
       "      <td>0.992</td>\n",
       "      <td>25.1695</td>\n",
       "      <td>0.1854</td>\n",
       "      <td>78.4611</td>\n",
       "      <td>0.9898</td>\n",
       "      <td>20.9851</td>\n",
       "      <td>0.0</td>\n",
       "      <td>52.2234</td>\n",
       "      <td>0.987</td>\n",
       "      <td>1.483</td>\n",
       "      <td>202443</td>\n",
       "    </tr>\n",
       "  </tbody>\n",
       "</table>\n",
       "</div>"
      ],
      "text/plain": [
       "        date  geocode  temp_max  precip_max  umid_max  pressao_max  temp_med  \\\n",
       "0 2024-10-22  3304557   30.8855      1.4735   95.7961        0.992   25.1695   \n",
       "\n",
       "   precip_med  umid_med  pressao_med  temp_min  precip_min  umid_min  \\\n",
       "0      0.1854   78.4611       0.9898   20.9851         0.0   52.2234   \n",
       "\n",
       "   pressao_min  precip_tot epiweek  \n",
       "0        0.987       1.483  202443  "
      ]
     },
     "execution_count": 4,
     "metadata": {},
     "output_type": "execute_result"
    }
   ],
   "source": [
    "with request.reanalysis_era5_land(locale=\"BRA\", date=\"2024-10-22\") as ds:\n",
    "    df = ds.cope.to_dataframe(ADM2.get(code=3304557, adm0=\"BRA\"))\n",
    "df"
   ]
  },
  {
   "cell_type": "code",
   "execution_count": 7,
   "id": "a0a85b6f-4558-4723-811f-3d05d3f18c57",
   "metadata": {
    "tags": []
   },
   "outputs": [
    {
     "name": "stdout",
     "output_type": "stream",
     "text": [
      "1min 17s ± 4.63 s per loop (mean ± std. dev. of 7 runs, 1 loop each)\n"
     ]
    }
   ],
   "source": [
    "%%timeit\n",
    "with request.reanalysis_era5_land(locale=\"BRA\", date=\"2024-10-22\") as ds:\n",
    "    df = ds.cope.to_dataframe(ADM2.filter(adm1=42, adm0=\"BRA\"))\n",
    "df"
   ]
  },
  {
   "cell_type": "code",
   "execution_count": 8,
   "id": "74162d15-b808-455e-b4ca-c6dbf694a6d4",
   "metadata": {
    "tags": []
   },
   "outputs": [
    {
     "name": "stdout",
     "output_type": "stream",
     "text": [
      "2min 54s ± 8.76 s per loop (mean ± std. dev. of 7 runs, 1 loop each)\n"
     ]
    }
   ],
   "source": [
    "%%timeit\n",
    "with request.reanalysis_era5_land(locale=\"ARG\", date=\"2024-10-19\") as ds:\n",
    "    df = ds.cope.to_dataframe(ADM2.filter(adm0=\"ARG\"))\n",
    "df "
   ]
  },
  {
   "cell_type": "code",
   "execution_count": 2,
   "id": "63dd234b-530c-48e4-b4dd-d0a8f8f6230f",
   "metadata": {
    "tags": []
   },
   "outputs": [
    {
     "name": "stdout",
     "output_type": "stream",
     "text": [
      "2min 26s ± 1.49 s per loop (mean ± std. dev. of 7 runs, 1 loop each)\n"
     ]
    }
   ],
   "source": [
    "%%timeit\n",
    "with request.reanalysis_era5_land(locale=\"ARG\", date=\"2024-10-19\") as ds:\n",
    "    df = ds.cope.to_dataframe(ADM2.filter(adm0=\"ARG\"))"
   ]
  },
  {
   "cell_type": "code",
   "execution_count": 1,
   "id": "04ab2659-2101-4884-9ba3-fae6e2723e6c",
   "metadata": {
    "tags": []
   },
   "outputs": [],
   "source": [
    "from satellite import request, ADM2"
   ]
  },
  {
   "cell_type": "code",
   "execution_count": null,
   "id": "0d6ba65b-a781-4cee-b0e4-0e6fdf9060d6",
   "metadata": {},
   "outputs": [
    {
     "name": "stderr",
     "output_type": "stream",
     "text": [
      "/home/bida/Projetos/InfoDengue/satellite-weather-downloader/satellite/extensions/cope.py:132: UserWarning: pandas only supports SQLAlchemy connectable (engine/connection) or database string URI or sqlite3 DBAPI2 connection. Other DBAPI2 objects are not tested. Please consider using SQLAlchemy.\n",
      "  df.to_sql(\n",
      "2024-10-29 16:36:06.643 | INFO     | satellite.extensions.cope:_adm_to_sql:140 - 02007 updated on .test\n",
      "/home/bida/Projetos/InfoDengue/satellite-weather-downloader/satellite/extensions/cope.py:132: UserWarning: pandas only supports SQLAlchemy connectable (engine/connection) or database string URI or sqlite3 DBAPI2 connection. Other DBAPI2 objects are not tested. Please consider using SQLAlchemy.\n",
      "  df.to_sql(\n",
      "2024-10-29 16:36:06.714 | INFO     | satellite.extensions.cope:_adm_to_sql:140 - 06175 updated on .test\n",
      "/home/bida/Projetos/InfoDengue/satellite-weather-downloader/satellite/extensions/cope.py:132: UserWarning: pandas only supports SQLAlchemy connectable (engine/connection) or database string URI or sqlite3 DBAPI2 connection. Other DBAPI2 objects are not tested. Please consider using SQLAlchemy.\n",
      "  df.to_sql(\n",
      "2024-10-29 16:36:06.742 | INFO     | satellite.extensions.cope:_adm_to_sql:140 - 02005 updated on .test\n",
      "/home/bida/Projetos/InfoDengue/satellite-weather-downloader/satellite/extensions/cope.py:132: UserWarning: pandas only supports SQLAlchemy connectable (engine/connection) or database string URI or sqlite3 DBAPI2 connection. Other DBAPI2 objects are not tested. Please consider using SQLAlchemy.\n",
      "  df.to_sql(\n",
      "2024-10-29 16:36:06.922 | INFO     | satellite.extensions.cope:_adm_to_sql:140 - 06161 updated on .test\n",
      "2024-10-29 16:36:07.265 | INFO     | satellite.extensions.cope:_adm_to_sql:140 - 06070 updated on .test\n",
      "2024-10-29 16:36:07.307 | INFO     | satellite.extensions.cope:_adm_to_sql:140 - 02009 updated on .test\n",
      "2024-10-29 16:36:07.395 | INFO     | satellite.extensions.cope:_adm_to_sql:140 - 06077 updated on .test\n",
      "2024-10-29 16:36:07.440 | INFO     | satellite.extensions.cope:_adm_to_sql:140 - 02008 updated on .test\n",
      "2024-10-29 16:36:07.739 | INFO     | satellite.extensions.cope:_adm_to_sql:140 - 06147 updated on .test\n",
      "2024-10-29 16:36:07.791 | INFO     | satellite.extensions.cope:_adm_to_sql:140 - 06098 updated on .test\n",
      "2024-10-29 16:36:07.809 | INFO     | satellite.extensions.cope:_adm_to_sql:140 - 06112 updated on .test\n",
      "2024-10-29 16:36:08.076 | INFO     | satellite.extensions.cope:_adm_to_sql:140 - 06056 updated on .test\n",
      "2024-10-29 16:36:08.138 | INFO     | satellite.extensions.cope:_adm_to_sql:140 - 02011 updated on .test\n",
      "2024-10-29 16:36:08.154 | INFO     | satellite.extensions.cope:_adm_to_sql:140 - 02014 updated on .test\n",
      "2024-10-29 16:36:08.459 | INFO     | satellite.extensions.cope:_adm_to_sql:140 - 06154 updated on .test\n",
      "2024-10-29 16:36:08.574 | INFO     | satellite.extensions.cope:_adm_to_sql:140 - 06084 updated on .test\n",
      "2024-10-29 16:36:08.671 | INFO     | satellite.extensions.cope:_adm_to_sql:140 - 06028 updated on .test\n",
      "2024-10-29 16:36:08.955 | INFO     | satellite.extensions.cope:_adm_to_sql:140 - 02013 updated on .test\n",
      "2024-10-29 16:36:09.110 | INFO     | satellite.extensions.cope:_adm_to_sql:140 - 06021 updated on .test\n",
      "2024-10-29 16:36:09.148 | INFO     | satellite.extensions.cope:_adm_to_sql:140 - 02006 updated on .test\n",
      "2024-10-29 16:36:09.173 | INFO     | satellite.extensions.cope:_adm_to_sql:140 - 02015 updated on .test\n",
      "2024-10-29 16:36:09.258 | INFO     | satellite.extensions.cope:_adm_to_sql:140 - 02002 updated on .test\n",
      "2024-10-29 16:36:09.450 | INFO     | satellite.extensions.cope:_adm_to_sql:140 - 06140 updated on .test\n",
      "2024-10-29 16:36:09.536 | INFO     | satellite.extensions.cope:_adm_to_sql:140 - 06091 updated on .test\n",
      "2024-10-29 16:36:09.736 | INFO     | satellite.extensions.cope:_adm_to_sql:140 - 06035 updated on .test\n",
      "2024-10-29 16:36:09.969 | INFO     | satellite.extensions.cope:_adm_to_sql:140 - 06119 updated on .test\n",
      "2024-10-29 16:36:10.234 | INFO     | satellite.extensions.cope:_adm_to_sql:140 - 06134 updated on .test\n",
      "2024-10-29 16:36:10.497 | INFO     | satellite.extensions.cope:_adm_to_sql:140 - 06007 updated on .test\n",
      "2024-10-29 16:36:10.656 | INFO     | satellite.extensions.cope:_adm_to_sql:140 - 02001 updated on .test\n",
      "2024-10-29 16:36:10.883 | INFO     | satellite.extensions.cope:_adm_to_sql:140 - 06168 updated on .test\n",
      "2024-10-29 16:36:10.981 | INFO     | satellite.extensions.cope:_adm_to_sql:140 - 06105 updated on .test\n",
      "2024-10-29 16:36:11.218 | INFO     | satellite.extensions.cope:_adm_to_sql:140 - 06014 updated on .test\n",
      "2024-10-29 16:36:11.279 | INFO     | satellite.extensions.cope:_adm_to_sql:140 - 02012 updated on .test\n",
      "2024-10-29 16:36:11.559 | INFO     | satellite.extensions.cope:_adm_to_sql:140 - 02003 updated on .test\n",
      "2024-10-29 16:36:11.576 | INFO     | satellite.extensions.cope:_adm_to_sql:140 - 06049 updated on .test\n",
      "2024-10-29 16:36:11.794 | INFO     | satellite.extensions.cope:_adm_to_sql:140 - 06063 updated on .test\n",
      "2024-10-29 16:36:12.150 | INFO     | satellite.extensions.cope:_adm_to_sql:140 - 02010 updated on .test\n",
      "2024-10-29 16:36:12.165 | INFO     | satellite.extensions.cope:_adm_to_sql:140 - 06042 updated on .test\n",
      "2024-10-29 16:36:12.598 | INFO     | satellite.extensions.cope:_adm_to_sql:140 - 02004 updated on .test\n",
      "2024-10-29 16:36:12.785 | INFO     | satellite.extensions.cope:_adm_to_sql:140 - 06126 updated on .test\n",
      "2024-10-29 16:36:13.903 | INFO     | satellite.extensions.cope:_adm_to_sql:140 - 06196 updated on .test\n",
      "2024-10-29 16:36:13.935 | INFO     | satellite.extensions.cope:_adm_to_sql:140 - 06203 updated on .test\n",
      "2024-10-29 16:36:14.113 | INFO     | satellite.extensions.cope:_adm_to_sql:140 - 06270 updated on .test\n",
      "2024-10-29 16:36:14.171 | INFO     | satellite.extensions.cope:_adm_to_sql:140 - 06182 updated on .test\n",
      "2024-10-29 16:36:14.353 | INFO     | satellite.extensions.cope:_adm_to_sql:140 - 06238 updated on .test\n",
      "2024-10-29 16:36:14.576 | INFO     | satellite.extensions.cope:_adm_to_sql:140 - 06274 updated on .test\n",
      "2024-10-29 16:36:14.687 | INFO     | satellite.extensions.cope:_adm_to_sql:140 - 06231 updated on .test\n",
      "2024-10-29 16:36:14.895 | INFO     | satellite.extensions.cope:_adm_to_sql:140 - 06266 updated on .test\n",
      "2024-10-29 16:36:15.094 | INFO     | satellite.extensions.cope:_adm_to_sql:140 - 06315 updated on .test\n",
      "2024-10-29 16:36:15.200 | INFO     | satellite.extensions.cope:_adm_to_sql:140 - 06217 updated on .test\n",
      "2024-10-29 16:36:15.615 | INFO     | satellite.extensions.cope:_adm_to_sql:140 - 06260 updated on .test\n",
      "2024-10-29 16:36:15.748 | INFO     | satellite.extensions.cope:_adm_to_sql:140 - 06287 updated on .test\n",
      "2024-10-29 16:36:15.800 | INFO     | satellite.extensions.cope:_adm_to_sql:140 - 06210 updated on .test\n",
      "2024-10-29 16:36:15.821 | INFO     | satellite.extensions.cope:_adm_to_sql:140 - 06308 updated on .test\n",
      "2024-10-29 16:36:16.036 | INFO     | satellite.extensions.cope:_adm_to_sql:140 - 06245 updated on .test\n",
      "2024-10-29 16:36:16.144 | INFO     | satellite.extensions.cope:_adm_to_sql:140 - 06252 updated on .test\n",
      "2024-10-29 16:36:16.183 | INFO     | satellite.extensions.cope:_adm_to_sql:140 - 06280 updated on .test\n",
      "2024-10-29 16:36:16.450 | INFO     | satellite.extensions.cope:_adm_to_sql:140 - 06277 updated on .test\n",
      "2024-10-29 16:36:16.493 | INFO     | satellite.extensions.cope:_adm_to_sql:140 - 06294 updated on .test\n",
      "2024-10-29 16:36:16.677 | INFO     | satellite.extensions.cope:_adm_to_sql:140 - 06189 updated on .test\n",
      "2024-10-29 16:36:16.995 | INFO     | satellite.extensions.cope:_adm_to_sql:140 - 06371 updated on .test\n",
      "2024-10-29 16:36:17.032 | INFO     | satellite.extensions.cope:_adm_to_sql:140 - 06351 updated on .test\n",
      "2024-10-29 16:36:17.183 | INFO     | satellite.extensions.cope:_adm_to_sql:140 - 06329 updated on .test\n",
      "2024-10-29 16:36:17.347 | INFO     | satellite.extensions.cope:_adm_to_sql:140 - 06224 updated on .test\n",
      "2024-10-29 16:36:17.696 | INFO     | satellite.extensions.cope:_adm_to_sql:140 - 06336 updated on .test\n",
      "2024-10-29 16:36:17.759 | INFO     | satellite.extensions.cope:_adm_to_sql:140 - 06399 updated on .test\n",
      "2024-10-29 16:36:17.924 | INFO     | satellite.extensions.cope:_adm_to_sql:140 - 06410 updated on .test\n",
      "2024-10-29 16:36:18.177 | INFO     | satellite.extensions.cope:_adm_to_sql:140 - 06301 updated on .test\n",
      "2024-10-29 16:36:18.232 | INFO     | satellite.extensions.cope:_adm_to_sql:140 - 06357 updated on .test\n",
      "2024-10-29 16:36:18.384 | INFO     | satellite.extensions.cope:_adm_to_sql:140 - 06364 updated on .test\n",
      "2024-10-29 16:36:18.594 | INFO     | satellite.extensions.cope:_adm_to_sql:140 - 06343 updated on .test\n",
      "2024-10-29 16:36:18.609 | INFO     | satellite.extensions.cope:_adm_to_sql:140 - 06385 updated on .test\n",
      "2024-10-29 16:36:19.032 | INFO     | satellite.extensions.cope:_adm_to_sql:140 - 06413 updated on .test\n",
      "2024-10-29 16:36:19.478 | INFO     | satellite.extensions.cope:_adm_to_sql:140 - 06392 updated on .test\n",
      "2024-10-29 16:36:19.548 | INFO     | satellite.extensions.cope:_adm_to_sql:140 - 06420 updated on .test\n",
      "2024-10-29 16:36:19.819 | INFO     | satellite.extensions.cope:_adm_to_sql:140 - 06322 updated on .test\n",
      "2024-10-29 16:36:20.021 | INFO     | satellite.extensions.cope:_adm_to_sql:140 - 06406 updated on .test\n",
      "2024-10-29 16:36:20.233 | INFO     | satellite.extensions.cope:_adm_to_sql:140 - 06427 updated on .test\n",
      "2024-10-29 16:36:20.371 | INFO     | satellite.extensions.cope:_adm_to_sql:140 - 06408 updated on .test\n",
      "2024-10-29 16:36:20.778 | INFO     | satellite.extensions.cope:_adm_to_sql:140 - 06412 updated on .test\n",
      "2024-10-29 16:36:21.284 | INFO     | satellite.extensions.cope:_adm_to_sql:140 - 06462 updated on .test\n",
      "2024-10-29 16:36:21.448 | INFO     | satellite.extensions.cope:_adm_to_sql:140 - 06560 updated on .test\n",
      "2024-10-29 16:36:21.844 | INFO     | satellite.extensions.cope:_adm_to_sql:140 - 06483 updated on .test\n",
      "2024-10-29 16:36:21.881 | INFO     | satellite.extensions.cope:_adm_to_sql:140 - 06441 updated on .test\n",
      "2024-10-29 16:36:22.038 | INFO     | satellite.extensions.cope:_adm_to_sql:140 - 06455 updated on .test\n",
      "2024-10-29 16:36:22.292 | INFO     | satellite.extensions.cope:_adm_to_sql:140 - 06469 updated on .test\n",
      "2024-10-29 16:36:22.550 | INFO     | satellite.extensions.cope:_adm_to_sql:140 - 06434 updated on .test\n",
      "2024-10-29 16:36:22.574 | INFO     | satellite.extensions.cope:_adm_to_sql:140 - 06525 updated on .test\n",
      "2024-10-29 16:36:22.977 | INFO     | satellite.extensions.cope:_adm_to_sql:140 - 06547 updated on .test\n",
      "2024-10-29 16:36:23.004 | INFO     | satellite.extensions.cope:_adm_to_sql:140 - 06505 updated on .test\n",
      "2024-10-29 16:36:23.022 | INFO     | satellite.extensions.cope:_adm_to_sql:140 - 06553 updated on .test\n",
      "2024-10-29 16:36:23.196 | INFO     | satellite.extensions.cope:_adm_to_sql:140 - 06448 updated on .test\n",
      "2024-10-29 16:36:23.501 | INFO     | satellite.extensions.cope:_adm_to_sql:140 - 06490 updated on .test\n",
      "2024-10-29 16:36:23.598 | INFO     | satellite.extensions.cope:_adm_to_sql:140 - 06497 updated on .test\n",
      "2024-10-29 16:36:23.617 | INFO     | satellite.extensions.cope:_adm_to_sql:140 - 06638 updated on .test\n",
      "2024-10-29 16:36:23.840 | INFO     | satellite.extensions.cope:_adm_to_sql:140 - 06515 updated on .test\n",
      "2024-10-29 16:36:23.918 | INFO     | satellite.extensions.cope:_adm_to_sql:140 - 06511 updated on .test\n",
      "2024-10-29 16:36:24.158 | INFO     | satellite.extensions.cope:_adm_to_sql:140 - 06581 updated on .test\n",
      "2024-10-29 16:36:24.557 | INFO     | satellite.extensions.cope:_adm_to_sql:140 - 06476 updated on .test\n",
      "2024-10-29 16:36:24.571 | INFO     | satellite.extensions.cope:_adm_to_sql:140 - 06574 updated on .test\n",
      "2024-10-29 16:36:24.812 | INFO     | satellite.extensions.cope:_adm_to_sql:140 - 06518 updated on .test\n",
      "2024-10-29 16:36:25.106 | INFO     | satellite.extensions.cope:_adm_to_sql:140 - 06644 updated on .test\n",
      "2024-10-29 16:36:25.138 | INFO     | satellite.extensions.cope:_adm_to_sql:140 - 06595 updated on .test\n",
      "2024-10-29 16:36:25.219 | INFO     | satellite.extensions.cope:_adm_to_sql:140 - 06539 updated on .test\n",
      "2024-10-29 16:36:25.470 | INFO     | satellite.extensions.cope:_adm_to_sql:140 - 06665 updated on .test\n",
      "2024-10-29 16:36:25.706 | INFO     | satellite.extensions.cope:_adm_to_sql:140 - 06588 updated on .test\n",
      "2024-10-29 16:36:25.780 | INFO     | satellite.extensions.cope:_adm_to_sql:140 - 06616 updated on .test\n",
      "2024-10-29 16:36:25.859 | INFO     | satellite.extensions.cope:_adm_to_sql:140 - 06568 updated on .test\n",
      "2024-10-29 16:36:25.981 | INFO     | satellite.extensions.cope:_adm_to_sql:140 - 06532 updated on .test\n",
      "2024-10-29 16:36:26.244 | INFO     | satellite.extensions.cope:_adm_to_sql:140 - 06609 updated on .test\n",
      "2024-10-29 16:36:26.686 | INFO     | satellite.extensions.cope:_adm_to_sql:140 - 06630 updated on .test\n",
      "2024-10-29 16:36:26.703 | INFO     | satellite.extensions.cope:_adm_to_sql:140 - 06602 updated on .test\n",
      "2024-10-29 16:36:26.934 | INFO     | satellite.extensions.cope:_adm_to_sql:140 - 06648 updated on .test\n",
      "2024-10-29 16:36:27.330 | INFO     | satellite.extensions.cope:_adm_to_sql:140 - 06658 updated on .test\n",
      "2024-10-29 16:36:27.644 | INFO     | satellite.extensions.cope:_adm_to_sql:140 - 06655 updated on .test\n",
      "2024-10-29 16:36:27.945 | INFO     | satellite.extensions.cope:_adm_to_sql:140 - 06651 updated on .test\n",
      "2024-10-29 16:36:28.123 | INFO     | satellite.extensions.cope:_adm_to_sql:140 - 06623 updated on .test\n",
      "2024-10-29 16:36:28.350 | INFO     | satellite.extensions.cope:_adm_to_sql:140 - 06672 updated on .test\n",
      "2024-10-29 16:36:28.730 | INFO     | satellite.extensions.cope:_adm_to_sql:140 - 06693 updated on .test\n",
      "2024-10-29 16:36:28.766 | INFO     | satellite.extensions.cope:_adm_to_sql:140 - 06686 updated on .test\n",
      "2024-10-29 16:36:29.036 | INFO     | satellite.extensions.cope:_adm_to_sql:140 - 06700 updated on .test\n",
      "2024-10-29 16:36:29.330 | INFO     | satellite.extensions.cope:_adm_to_sql:140 - 06707 updated on .test\n",
      "2024-10-29 16:36:29.623 | INFO     | satellite.extensions.cope:_adm_to_sql:140 - 06721 updated on .test\n",
      "2024-10-29 16:36:29.668 | INFO     | satellite.extensions.cope:_adm_to_sql:140 - 06749 updated on .test\n",
      "2024-10-29 16:36:29.994 | INFO     | satellite.extensions.cope:_adm_to_sql:140 - 06679 updated on .test\n",
      "2024-10-29 16:36:30.030 | INFO     | satellite.extensions.cope:_adm_to_sql:140 - 06714 updated on .test\n",
      "2024-10-29 16:36:30.294 | INFO     | satellite.extensions.cope:_adm_to_sql:140 - 06742 updated on .test\n",
      "2024-10-29 16:36:30.425 | INFO     | satellite.extensions.cope:_adm_to_sql:140 - 06728 updated on .test\n",
      "2024-10-29 16:36:30.737 | INFO     | satellite.extensions.cope:_adm_to_sql:140 - 06854 updated on .test\n",
      "2024-10-29 16:36:30.955 | INFO     | satellite.extensions.cope:_adm_to_sql:140 - 06868 updated on .test\n",
      "2024-10-29 16:36:30.998 | INFO     | satellite.extensions.cope:_adm_to_sql:140 - 06784 updated on .test\n",
      "2024-10-29 16:36:31.186 | INFO     | satellite.extensions.cope:_adm_to_sql:140 - 06760 updated on .test\n",
      "2024-10-29 16:36:31.216 | INFO     | satellite.extensions.cope:_adm_to_sql:140 - 06861 updated on .test\n",
      "2024-10-29 16:36:31.365 | INFO     | satellite.extensions.cope:_adm_to_sql:140 - 06735 updated on .test\n",
      "2024-10-29 16:36:31.604 | INFO     | satellite.extensions.cope:_adm_to_sql:140 - 06840 updated on .test\n",
      "2024-10-29 16:36:31.650 | INFO     | satellite.extensions.cope:_adm_to_sql:140 - 06833 updated on .test\n",
      "2024-10-29 16:36:31.900 | INFO     | satellite.extensions.cope:_adm_to_sql:140 - 06791 updated on .test\n",
      "2024-10-29 16:36:32.088 | INFO     | satellite.extensions.cope:_adm_to_sql:140 - 06770 updated on .test\n",
      "2024-10-29 16:36:32.321 | INFO     | satellite.extensions.cope:_adm_to_sql:140 - 06812 updated on .test\n",
      "2024-10-29 16:36:32.495 | INFO     | satellite.extensions.cope:_adm_to_sql:140 - 06875 updated on .test\n",
      "2024-10-29 16:36:32.935 | INFO     | satellite.extensions.cope:_adm_to_sql:140 - 06882 updated on .test\n",
      "2024-10-29 16:36:32.956 | INFO     | satellite.extensions.cope:_adm_to_sql:140 - 06847 updated on .test\n",
      "2024-10-29 16:36:33.200 | INFO     | satellite.extensions.cope:_adm_to_sql:140 - 06778 updated on .test\n",
      "2024-10-29 16:36:33.419 | INFO     | satellite.extensions.cope:_adm_to_sql:140 - 06763 updated on .test\n",
      "2024-10-29 16:36:33.436 | INFO     | satellite.extensions.cope:_adm_to_sql:140 - 06805 updated on .test\n",
      "2024-10-29 16:36:33.767 | INFO     | satellite.extensions.cope:_adm_to_sql:140 - 06756 updated on .test\n",
      "2024-10-29 16:36:34.072 | INFO     | satellite.extensions.cope:_adm_to_sql:140 - 06826 updated on .test\n",
      "2024-10-29 16:36:34.828 | INFO     | satellite.extensions.cope:_adm_to_sql:140 - 06819 updated on .test\n",
      "2024-10-29 16:36:35.622 | INFO     | satellite.extensions.cope:_adm_to_sql:140 - 10028 updated on .test\n",
      "2024-10-29 16:36:36.357 | INFO     | satellite.extensions.cope:_adm_to_sql:140 - 06798 updated on .test\n",
      "2024-10-29 16:36:36.397 | INFO     | satellite.extensions.cope:_adm_to_sql:140 - 10035 updated on .test\n",
      "2024-10-29 16:36:36.857 | INFO     | satellite.extensions.cope:_adm_to_sql:140 - 10021 updated on .test\n",
      "2024-10-29 16:36:37.225 | INFO     | satellite.extensions.cope:_adm_to_sql:140 - 10077 updated on .test\n",
      "2024-10-29 16:36:37.300 | INFO     | satellite.extensions.cope:_adm_to_sql:140 - 10056 updated on .test\n",
      "2024-10-29 16:36:37.565 | INFO     | satellite.extensions.cope:_adm_to_sql:140 - 10007 updated on .test\n",
      "2024-10-29 16:36:37.788 | INFO     | satellite.extensions.cope:_adm_to_sql:140 - 10014 updated on .test\n",
      "2024-10-29 16:36:38.394 | INFO     | satellite.extensions.cope:_adm_to_sql:140 - 10063 updated on .test\n",
      "2024-10-29 16:36:38.415 | INFO     | satellite.extensions.cope:_adm_to_sql:140 - 10084 updated on .test\n",
      "2024-10-29 16:36:38.774 | INFO     | satellite.extensions.cope:_adm_to_sql:140 - 10042 updated on .test\n",
      "2024-10-29 16:36:39.162 | INFO     | satellite.extensions.cope:_adm_to_sql:140 - 10070 updated on .test\n",
      "2024-10-29 16:36:39.448 | INFO     | satellite.extensions.cope:_adm_to_sql:140 - 10049 updated on .test\n",
      "2024-10-29 16:36:39.652 | INFO     | satellite.extensions.cope:_adm_to_sql:140 - 14021 updated on .test\n",
      "2024-10-29 16:36:39.812 | INFO     | satellite.extensions.cope:_adm_to_sql:140 - 10098 updated on .test\n",
      "2024-10-29 16:36:40.324 | INFO     | satellite.extensions.cope:_adm_to_sql:140 - 10112 updated on .test\n",
      "2024-10-29 16:36:40.922 | INFO     | satellite.extensions.cope:_adm_to_sql:140 - 14042 updated on .test\n",
      "2024-10-29 16:36:40.968 | INFO     | satellite.extensions.cope:_adm_to_sql:140 - 10105 updated on .test\n",
      "2024-10-29 16:36:41.275 | INFO     | satellite.extensions.cope:_adm_to_sql:140 - 14091 updated on .test\n",
      "2024-10-29 16:36:41.433 | INFO     | satellite.extensions.cope:_adm_to_sql:140 - 14007 updated on .test\n",
      "2024-10-29 16:36:41.695 | INFO     | satellite.extensions.cope:_adm_to_sql:140 - 14049 updated on .test\n",
      "2024-10-29 16:36:42.045 | INFO     | satellite.extensions.cope:_adm_to_sql:140 - 14077 updated on .test\n",
      "2024-10-29 16:36:42.356 | INFO     | satellite.extensions.cope:_adm_to_sql:140 - 14098 updated on .test\n",
      "2024-10-29 16:36:42.794 | INFO     | satellite.extensions.cope:_adm_to_sql:140 - 14147 updated on .test\n",
      "2024-10-29 16:36:42.839 | INFO     | satellite.extensions.cope:_adm_to_sql:140 - 10091 updated on .test\n",
      "2024-10-29 16:36:43.071 | INFO     | satellite.extensions.cope:_adm_to_sql:140 - 14014 updated on .test\n",
      "2024-10-29 16:36:43.327 | INFO     | satellite.extensions.cope:_adm_to_sql:140 - 14112 updated on .test\n",
      "2024-10-29 16:36:44.184 | INFO     | satellite.extensions.cope:_adm_to_sql:140 - 14063 updated on .test\n",
      "2024-10-29 16:36:44.330 | INFO     | satellite.extensions.cope:_adm_to_sql:140 - 14126 updated on .test\n",
      "2024-10-29 16:36:44.389 | INFO     | satellite.extensions.cope:_adm_to_sql:140 - 14070 updated on .test\n",
      "2024-10-29 16:36:45.064 | INFO     | satellite.extensions.cope:_adm_to_sql:140 - 14154 updated on .test\n",
      "2024-10-29 16:36:45.188 | INFO     | satellite.extensions.cope:_adm_to_sql:140 - 14035 updated on .test\n",
      "2024-10-29 16:36:45.461 | INFO     | satellite.extensions.cope:_adm_to_sql:140 - 14119 updated on .test\n",
      "2024-10-29 16:36:45.726 | INFO     | satellite.extensions.cope:_adm_to_sql:140 - 14084 updated on .test\n",
      "2024-10-29 16:36:46.291 | INFO     | satellite.extensions.cope:_adm_to_sql:140 - 14056 updated on .test\n",
      "2024-10-29 16:36:46.510 | INFO     | satellite.extensions.cope:_adm_to_sql:140 - 14028 updated on .test\n",
      "2024-10-29 16:36:47.020 | INFO     | satellite.extensions.cope:_adm_to_sql:140 - 14182 updated on .test\n",
      "2024-10-29 16:36:47.261 | INFO     | satellite.extensions.cope:_adm_to_sql:140 - 14105 updated on .test\n",
      "2024-10-29 16:36:47.476 | INFO     | satellite.extensions.cope:_adm_to_sql:140 - 14133 updated on .test\n",
      "2024-10-29 16:36:47.848 | INFO     | satellite.extensions.cope:_adm_to_sql:140 - 18014 updated on .test\n",
      "2024-10-29 16:36:48.185 | INFO     | satellite.extensions.cope:_adm_to_sql:140 - 14140 updated on .test\n",
      "2024-10-29 16:36:48.578 | INFO     | satellite.extensions.cope:_adm_to_sql:140 - 14161 updated on .test\n",
      "2024-10-29 16:36:48.908 | INFO     | satellite.extensions.cope:_adm_to_sql:140 - 18021 updated on .test\n",
      "2024-10-29 16:36:49.483 | INFO     | satellite.extensions.cope:_adm_to_sql:140 - 18042 updated on .test\n",
      "2024-10-29 16:36:49.499 | INFO     | satellite.extensions.cope:_adm_to_sql:140 - 14175 updated on .test\n",
      "2024-10-29 16:36:50.022 | INFO     | satellite.extensions.cope:_adm_to_sql:140 - 18049 updated on .test\n",
      "2024-10-29 16:36:50.039 | INFO     | satellite.extensions.cope:_adm_to_sql:140 - 18007 updated on .test\n",
      "2024-10-29 16:36:50.333 | INFO     | satellite.extensions.cope:_adm_to_sql:140 - 18028 updated on .test\n",
      "2024-10-29 16:36:50.738 | INFO     | satellite.extensions.cope:_adm_to_sql:140 - 14168 updated on .test\n",
      "2024-10-29 16:36:51.343 | INFO     | satellite.extensions.cope:_adm_to_sql:140 - 18084 updated on .test\n",
      "2024-10-29 16:36:51.516 | INFO     | satellite.extensions.cope:_adm_to_sql:140 - 18077 updated on .test\n",
      "2024-10-29 16:36:51.829 | INFO     | satellite.extensions.cope:_adm_to_sql:140 - 18119 updated on .test\n",
      "2024-10-29 16:36:52.260 | INFO     | satellite.extensions.cope:_adm_to_sql:140 - 18070 updated on .test\n",
      "2024-10-29 16:36:52.603 | INFO     | satellite.extensions.cope:_adm_to_sql:140 - 18063 updated on .test\n",
      "2024-10-29 16:36:52.724 | INFO     | satellite.extensions.cope:_adm_to_sql:140 - 18035 updated on .test\n"
     ]
    }
   ],
   "source": [
    "import duckdb\n",
    "con = duckdb.connect(':memory:')\n",
    "with request.reanalysis_era5_land(locale=\"ARG\", date=\"2024-10-19\") as ds:\n",
    "    df = ds.cope.to_sql(ADM2.filter(adm0=\"ARG\"), con=con, tablename='test')\n",
    "con.execute(\"SELECT * FROM test\").fetchdf()"
   ]
  },
  {
   "cell_type": "code",
   "execution_count": null,
   "id": "e8bf1ec3-020f-41ce-8b6e-6869ac4b60ab",
   "metadata": {},
   "outputs": [],
   "source": []
  }
 ],
 "metadata": {
  "kernelspec": {
   "display_name": "Python 3 (ipykernel)",
   "language": "python",
   "name": "python3"
  },
  "language_info": {
   "codemirror_mode": {
    "name": "ipython",
    "version": 3
   },
   "file_extension": ".py",
   "mimetype": "text/x-python",
   "name": "python",
   "nbconvert_exporter": "python",
   "pygments_lexer": "ipython3",
   "version": "3.11.10"
  }
 },
 "nbformat": 4,
 "nbformat_minor": 5
}
